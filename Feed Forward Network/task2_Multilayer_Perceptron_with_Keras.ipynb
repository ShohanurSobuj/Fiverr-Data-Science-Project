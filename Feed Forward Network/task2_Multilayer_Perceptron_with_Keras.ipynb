{
  "nbformat": 4,
  "nbformat_minor": 0,
  "metadata": {
    "colab": {
      "name": "task2.ipynb",
      "provenance": [],
      "collapsed_sections": []
    },
    "kernelspec": {
      "name": "python3",
      "display_name": "Python 3"
    },
    "language_info": {
      "name": "python"
    }
  },
  "cells": [
    {
      "cell_type": "code",
      "execution_count": null,
      "metadata": {
        "id": "hKEht1-9C6sS"
      },
      "outputs": [],
      "source": [
        "#importing libraries\n",
        "import pandas as pd\n",
        "import numpy as np\n",
        "import matplotlib.pyplot as plt\n",
        "from sklearn.model_selection import train_test_split\n",
        "from tensorflow.keras.utils import to_categorical\n",
        "from tensorflow.keras.models import Sequential\n",
        "from tensorflow.keras.layers import Dense\n",
        "from sklearn import metrics"
      ]
    },
    {
      "cell_type": "code",
      "source": [
        "#importing dataset\n",
        "df = pd.read_csv(\"/content/drive/Shareddrives/my_workspace/task2_train_data.csv\")\n",
        "df.head()\n",
        "print(df.shape)"
      ],
      "metadata": {
        "colab": {
          "base_uri": "https://localhost:8080/"
        },
        "id": "FPZsSPd-D8yW",
        "outputId": "d2becf1b-c37e-499c-d7ea-ff6b321aefc5"
      },
      "execution_count": null,
      "outputs": [
        {
          "output_type": "stream",
          "name": "stdout",
          "text": [
            "(60000, 785)\n"
          ]
        }
      ]
    },
    {
      "cell_type": "code",
      "source": [
        "#label\n",
        "y = df['y']"
      ],
      "metadata": {
        "id": "E0iiMDgyJTps"
      },
      "execution_count": null,
      "outputs": []
    },
    {
      "cell_type": "code",
      "source": [
        "#spliting the dataset\n",
        "X_train, X_test, y_train, y_test = train_test_split(df, y , test_size=0.2, random_state=40)"
      ],
      "metadata": {
        "id": "LF1hrSxJQIUd"
      },
      "execution_count": null,
      "outputs": []
    },
    {
      "cell_type": "code",
      "source": [
        "#shape of train and test data\n",
        "print(X_train.shape)\n",
        "print(X_test.shape)\n",
        "print(y_train.shape)\n",
        "print(y_test.shape)"
      ],
      "metadata": {
        "colab": {
          "base_uri": "https://localhost:8080/"
        },
        "id": "BbEhqH0dSY3c",
        "outputId": "2aae2ef1-43ef-4c86-c53f-10f07a44e36e"
      },
      "execution_count": null,
      "outputs": [
        {
          "output_type": "stream",
          "name": "stdout",
          "text": [
            "(48000, 785)\n",
            "(12000, 785)\n",
            "(48000,)\n",
            "(12000,)\n"
          ]
        }
      ]
    },
    {
      "cell_type": "code",
      "source": [
        "#number of classes in this dataset\n",
        "num_class = len(np.unique(y))\n",
        "num_class"
      ],
      "metadata": {
        "colab": {
          "base_uri": "https://localhost:8080/"
        },
        "id": "YiXUQlLEZ_q3",
        "outputId": "e06bbd1a-cb1e-4b3e-d8b1-ba468e9b3792"
      },
      "execution_count": null,
      "outputs": [
        {
          "output_type": "execute_result",
          "data": {
            "text/plain": [
              "10"
            ]
          },
          "metadata": {},
          "execution_count": 6
        }
      ]
    },
    {
      "cell_type": "code",
      "source": [
        "#ome hot encoding fot the label For example, using a one-hot encoding for 10 classes, the integer 5 will be encoded as 0000010000.\n",
        "y_train = to_categorical(y_train)\n",
        "y_test = to_categorical(y_test)"
      ],
      "metadata": {
        "id": "n5DTxSuTSvR4"
      },
      "execution_count": null,
      "outputs": []
    },
    {
      "cell_type": "code",
      "source": [
        "#converting to numpy array\n",
        "X_train=np.array(X_train)\n",
        "X_test=np.array(X_test)"
      ],
      "metadata": {
        "id": "xEa_vTGYXZCs"
      },
      "execution_count": null,
      "outputs": []
    },
    {
      "cell_type": "code",
      "source": [
        "#normalization the array data\n",
        "X_train=X_train/255.0\n",
        "X_test=X_test/255.0"
      ],
      "metadata": {
        "id": "2odZ9TbyXVtp"
      },
      "execution_count": null,
      "outputs": []
    },
    {
      "cell_type": "code",
      "source": [
        "#dimension of a single input\n",
        "dimension = np.prod(X_train.shape[1:])\n",
        "dimension\n"
      ],
      "metadata": {
        "colab": {
          "base_uri": "https://localhost:8080/"
        },
        "id": "0LRiUyUiY67u",
        "outputId": "5ee93b1b-9fac-4e9c-e556-98ffc59b266a"
      },
      "execution_count": null,
      "outputs": [
        {
          "output_type": "execute_result",
          "data": {
            "text/plain": [
              "785"
            ]
          },
          "metadata": {},
          "execution_count": 10
        }
      ]
    },
    {
      "cell_type": "code",
      "source": [
        "#model creation\n",
        "model = Sequential()\n",
        "model.add(Dense(512, activation='relu', input_shape=(dimension,)))\n",
        "model.add(Dense(512, activation='relu'))\n",
        "model.add(Dense(num_class, activation='softmax'))\n",
        "model.summary()"
      ],
      "metadata": {
        "colab": {
          "base_uri": "https://localhost:8080/"
        },
        "id": "UMYoWiiCYEP_",
        "outputId": "7e87340b-63c7-42cc-fcc2-1329cd058324"
      },
      "execution_count": null,
      "outputs": [
        {
          "output_type": "stream",
          "name": "stdout",
          "text": [
            "Model: \"sequential\"\n",
            "_________________________________________________________________\n",
            " Layer (type)                Output Shape              Param #   \n",
            "=================================================================\n",
            " dense (Dense)               (None, 512)               402432    \n",
            "                                                                 \n",
            " dense_1 (Dense)             (None, 512)               262656    \n",
            "                                                                 \n",
            " dense_2 (Dense)             (None, 10)                5130      \n",
            "                                                                 \n",
            "=================================================================\n",
            "Total params: 670,218\n",
            "Trainable params: 670,218\n",
            "Non-trainable params: 0\n",
            "_________________________________________________________________\n"
          ]
        }
      ]
    },
    {
      "cell_type": "code",
      "source": [
        "#In this step, we configure the optimizer to be rmsprop. We also specify the loss type which is categorical cross entropy which is used for multiclass classification\n",
        "model.compile(optimizer='rmsprop', loss='categorical_crossentropy', metrics=['accuracy'])"
      ],
      "metadata": {
        "id": "0SzmP2OEaYBj"
      },
      "execution_count": null,
      "outputs": []
    },
    {
      "cell_type": "code",
      "source": [
        "#model training\n",
        "history = model.fit(X_train, y_train, batch_size=256, epochs=20, verbose=1,\n",
        "                    validation_data=(X_test, y_test))\n"
      ],
      "metadata": {
        "colab": {
          "base_uri": "https://localhost:8080/"
        },
        "id": "MlPItIOoabNc",
        "outputId": "d480a552-3f6c-498e-bdee-5bfdff3cc123"
      },
      "execution_count": null,
      "outputs": [
        {
          "output_type": "stream",
          "name": "stdout",
          "text": [
            "Epoch 1/20\n",
            "188/188 [==============================] - 6s 29ms/step - loss: 0.3058 - accuracy: 0.9046 - val_loss: 0.1748 - val_accuracy: 0.9435\n",
            "Epoch 2/20\n",
            "188/188 [==============================] - 5s 27ms/step - loss: 0.1104 - accuracy: 0.9656 - val_loss: 0.0866 - val_accuracy: 0.9730\n",
            "Epoch 3/20\n",
            "188/188 [==============================] - 5s 27ms/step - loss: 0.0656 - accuracy: 0.9796 - val_loss: 0.1150 - val_accuracy: 0.9643\n",
            "Epoch 4/20\n",
            "188/188 [==============================] - 5s 26ms/step - loss: 0.0451 - accuracy: 0.9856 - val_loss: 0.0780 - val_accuracy: 0.9767\n",
            "Epoch 5/20\n",
            "188/188 [==============================] - 5s 27ms/step - loss: 0.0327 - accuracy: 0.9893 - val_loss: 0.0980 - val_accuracy: 0.9738\n",
            "Epoch 6/20\n",
            "188/188 [==============================] - 5s 26ms/step - loss: 0.0239 - accuracy: 0.9923 - val_loss: 0.0820 - val_accuracy: 0.9797\n",
            "Epoch 7/20\n",
            "188/188 [==============================] - 5s 26ms/step - loss: 0.0182 - accuracy: 0.9939 - val_loss: 0.0832 - val_accuracy: 0.9810\n",
            "Epoch 8/20\n",
            "188/188 [==============================] - 5s 26ms/step - loss: 0.0141 - accuracy: 0.9953 - val_loss: 0.0724 - val_accuracy: 0.9835\n",
            "Epoch 9/20\n",
            "188/188 [==============================] - 5s 26ms/step - loss: 0.0116 - accuracy: 0.9961 - val_loss: 0.0769 - val_accuracy: 0.9832\n",
            "Epoch 10/20\n",
            "188/188 [==============================] - 5s 26ms/step - loss: 0.0098 - accuracy: 0.9971 - val_loss: 0.0882 - val_accuracy: 0.9804\n",
            "Epoch 11/20\n",
            "188/188 [==============================] - 5s 26ms/step - loss: 0.0075 - accuracy: 0.9974 - val_loss: 0.0877 - val_accuracy: 0.9833\n",
            "Epoch 12/20\n",
            "188/188 [==============================] - 5s 26ms/step - loss: 0.0083 - accuracy: 0.9971 - val_loss: 0.0896 - val_accuracy: 0.9841\n",
            "Epoch 13/20\n",
            "188/188 [==============================] - 5s 26ms/step - loss: 0.0071 - accuracy: 0.9978 - val_loss: 0.1081 - val_accuracy: 0.9801\n",
            "Epoch 14/20\n",
            "188/188 [==============================] - 5s 26ms/step - loss: 0.0064 - accuracy: 0.9976 - val_loss: 0.1109 - val_accuracy: 0.9812\n",
            "Epoch 15/20\n",
            "188/188 [==============================] - 5s 27ms/step - loss: 0.0057 - accuracy: 0.9985 - val_loss: 0.1171 - val_accuracy: 0.9810\n",
            "Epoch 16/20\n",
            "188/188 [==============================] - 5s 26ms/step - loss: 0.0051 - accuracy: 0.9982 - val_loss: 0.1117 - val_accuracy: 0.9829\n",
            "Epoch 17/20\n",
            "188/188 [==============================] - 5s 26ms/step - loss: 0.0047 - accuracy: 0.9986 - val_loss: 0.1083 - val_accuracy: 0.9828\n",
            "Epoch 18/20\n",
            "188/188 [==============================] - 5s 26ms/step - loss: 0.0032 - accuracy: 0.9991 - val_loss: 0.1180 - val_accuracy: 0.9827\n",
            "Epoch 19/20\n",
            "188/188 [==============================] - 5s 27ms/step - loss: 0.0039 - accuracy: 0.9987 - val_loss: 0.1235 - val_accuracy: 0.9818\n",
            "Epoch 20/20\n",
            "188/188 [==============================] - 5s 26ms/step - loss: 0.0041 - accuracy: 0.9987 - val_loss: 0.1282 - val_accuracy: 0.9819\n"
          ]
        }
      ]
    },
    {
      "cell_type": "code",
      "source": [
        "#model performance evaluation\n",
        "[test_loss, test_acc] = model.evaluate(X_test, y_test)\n",
        "print(\"Evaluation result on Test Data : Loss = {}, accuracy = {}\".format(test_loss, test_acc))"
      ],
      "metadata": {
        "colab": {
          "base_uri": "https://localhost:8080/"
        },
        "id": "id2DEGcHas3E",
        "outputId": "772c0924-fb2e-4cf0-9082-238b27ca1048"
      },
      "execution_count": null,
      "outputs": [
        {
          "output_type": "stream",
          "name": "stdout",
          "text": [
            "375/375 [==============================] - 2s 4ms/step - loss: 0.1282 - accuracy: 0.9819\n",
            "Evaluation result on Test Data : Loss = 0.128183975815773, accuracy = 0.9819166660308838\n"
          ]
        }
      ]
    },
    {
      "cell_type": "code",
      "source": [
        "#Plot the Loss Curves\n",
        "plt.figure(figsize=[8,6])\n",
        "plt.plot(history.history['loss'],'r',linewidth=3.0)\n",
        "plt.plot(history.history['val_loss'],'b',linewidth=3.0)\n",
        "plt.legend(['Training loss', 'Validation Loss'],fontsize=18)\n",
        "plt.xlabel('Epochs ',fontsize=16)\n",
        "plt.ylabel('Loss',fontsize=16)\n",
        "plt.title('Loss Curves',fontsize=16)\n",
        "\n",
        "#Plot the Accuracy Curves\n",
        "plt.figure(figsize=[8,6])\n",
        "plt.plot(history.history['accuracy'],'r',linewidth=3.0)\n",
        "plt.plot(history.history['val_accuracy'],'b',linewidth=3.0)\n",
        "plt.legend(['Training Accuracy', 'Validation Accuracy'],fontsize=18)\n",
        "plt.xlabel('Epochs ',fontsize=16)\n",
        "plt.ylabel('Accuracy',fontsize=16)\n",
        "plt.title('Accuracy Curves',fontsize=16)"
      ],
      "metadata": {
        "colab": {
          "base_uri": "https://localhost:8080/",
          "height": 822
        },
        "id": "XexU46IDddNO",
        "outputId": "1d301706-84a2-4a97-e2b4-4451c3e21eb6"
      },
      "execution_count": null,
      "outputs": [
        {
          "output_type": "execute_result",
          "data": {
            "text/plain": [
              "Text(0.5, 1.0, 'Accuracy Curves')"
            ]
          },
          "metadata": {},
          "execution_count": 15
        },
        {
          "output_type": "display_data",
          "data": {
            "image/png": "[encoded data removed]",
            "text/plain": [
              "<Figure size 576x432 with 1 Axes>"
            ]
          },
          "metadata": {
            "needs_background": "light"
          }
        },
        {
          "output_type": "display_data",
          "data": {
            "image/png": "[encoded data removed]",
            "text/plain": [
              "<Figure size 576x432 with 1 Axes>"
            ]
          },
          "metadata": {
            "needs_background": "light"
          }
        }
      ]
    },
    {
      "cell_type": "code",
      "source": [
        ""
      ],
      "metadata": {
        "id": "jJLT2X_HrXuA"
      },
      "execution_count": null,
      "outputs": []
    }
  ]
}