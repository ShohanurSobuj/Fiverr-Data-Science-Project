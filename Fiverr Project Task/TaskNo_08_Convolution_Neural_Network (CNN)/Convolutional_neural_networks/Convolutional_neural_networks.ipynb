{
  "cells": [
    {
      "cell_type": "markdown",
      "metadata": {
        "id": "YsQgI_iopZl6"
      },
      "source": [
        "# Chapter 6: Convolutional Neural Networks"
      ]
    },
    {
      "cell_type": "code",
      "execution_count": null,
      "metadata": {
        "scrolled": false,
        "id": "Rrw6eocapZmW",
        "outputId": "ad528351-f6a9-4917-e66d-14aeca8c2b02"
      },
      "outputs": [
        {
          "data": {
            "text/plain": [
              "'2.1.3'"
            ]
          },
          "execution_count": 3,
          "metadata": {},
          "output_type": "execute_result"
        }
      ],
      "source": [
        "#importing libraries\n",
        "import keras\n",
        "keras.__version__"
      ]
    },
    {
      "cell_type": "markdown",
      "metadata": {
        "id": "MehcRn0dpZmc"
      },
      "source": [
        "Basic elements of a convolutional neuronal network"
      ]
    },
    {
      "cell_type": "code",
      "execution_count": null,
      "metadata": {
        "id": "nEhbo1OTpZmd",
        "outputId": "2e630f1b-1532-4304-f13c-45e01d903b34"
      },
      "outputs": [
        {
          "name": "stdout",
          "output_type": "stream",
          "text": [
            "_________________________________________________________________\n",
            "Layer (type)                 Output Shape              Param #   \n",
            "=================================================================\n",
            "conv2d_4 (Conv2D)            (None, 24, 24, 32)        832       \n",
            "_________________________________________________________________\n",
            "max_pooling2d_4 (MaxPooling2 (None, 12, 12, 32)        0         \n",
            "=================================================================\n",
            "Total params: 832\n",
            "Trainable params: 832\n",
            "Non-trainable params: 0\n",
            "_________________________________________________________________\n"
          ]
        }
      ],
      "source": [
        "#adding sequential model with one covolution layer and one maxpooling layer with activation function relu. \n",
        "#ReLU activation function which is required to introduce non-linearity to the model\n",
        "from keras import layers\n",
        "from keras import models\n",
        "model = models.Sequential()   \n",
        "model.add(layers.Conv2D(32, (5, 5), activation='relu', input_shape=(28, 28, 1)))  \n",
        "model.add(layers.MaxPooling2D((2, 2)))\n",
        "model.summary()"
      ]
    },
    {
      "cell_type": "markdown",
      "metadata": {
        "id": "5mdaDELQpZmf"
      },
      "source": [
        "Basic CNN model"
      ]
    },
    {
      "cell_type": "code",
      "execution_count": null,
      "metadata": {
        "scrolled": true,
        "id": "6wZK6THQpZmg",
        "outputId": "0b3b96bb-5855-4c95-8200-3c3becc6a4cd"
      },
      "outputs": [
        {
          "name": "stdout",
          "output_type": "stream",
          "text": [
            "_________________________________________________________________\n",
            "Layer (type)                 Output Shape              Param #   \n",
            "=================================================================\n",
            "conv2d_5 (Conv2D)            (None, 24, 24, 32)        832       \n",
            "_________________________________________________________________\n",
            "max_pooling2d_5 (MaxPooling2 (None, 12, 12, 32)        0         \n",
            "_________________________________________________________________\n",
            "conv2d_6 (Conv2D)            (None, 8, 8, 64)          51264     \n",
            "_________________________________________________________________\n",
            "max_pooling2d_6 (MaxPooling2 (None, 4, 4, 64)          0         \n",
            "=================================================================\n",
            "Total params: 52,096\n",
            "Trainable params: 52,096\n",
            "Non-trainable params: 0\n",
            "_________________________________________________________________\n"
          ]
        }
      ],
      "source": [
        "#cnn model \n",
        "model = models.Sequential()\n",
        "model.add(layers.Conv2D(32, (5, 5), activation='relu', input_shape=(28, 28, 1)))  #first conv2D layer with 32 filters \n",
        "model.add(layers.MaxPooling2D((2, 2))) #pooling layer used ti reduce overfiting\n",
        "model.add(layers.Conv2D(64, (5, 5), activation='relu')) #second conv2D layer with 64 filters.  Each filter transforms a part of the image (defined by the kernel size) using the kernel filter.\n",
        "model.add(layers.MaxPooling2D((2, 2)))\n",
        "model.summary()"
      ]
    },
    {
      "cell_type": "code",
      "execution_count": null,
      "metadata": {
        "id": "P-75knVvpZmi"
      },
      "outputs": [],
      "source": [
        "\n",
        "model.add(layers.Flatten()) #flatten layer to convert final features maps into a 1D vector\n",
        "model.add(layers.Dense(10, activation='softmax')) #The fully connected dense layers with activation softmax."
      ]
    },
    {
      "cell_type": "code",
      "execution_count": null,
      "metadata": {
        "scrolled": true,
        "id": "djG8s-9SpZmj",
        "outputId": "ef9c2883-4e68-440d-b70f-92a809268667"
      },
      "outputs": [
        {
          "name": "stdout",
          "output_type": "stream",
          "text": [
            "_________________________________________________________________\n",
            "Layer (type)                 Output Shape              Param #   \n",
            "=================================================================\n",
            "conv2d_5 (Conv2D)            (None, 24, 24, 32)        832       \n",
            "_________________________________________________________________\n",
            "max_pooling2d_5 (MaxPooling2 (None, 12, 12, 32)        0         \n",
            "_________________________________________________________________\n",
            "conv2d_6 (Conv2D)            (None, 8, 8, 64)          51264     \n",
            "_________________________________________________________________\n",
            "max_pooling2d_6 (MaxPooling2 (None, 4, 4, 64)          0         \n",
            "_________________________________________________________________\n",
            "flatten_1 (Flatten)          (None, 1024)              0         \n",
            "_________________________________________________________________\n",
            "dense_1 (Dense)              (None, 10)                10250     \n",
            "=================================================================\n",
            "Total params: 62,346\n",
            "Trainable params: 62,346\n",
            "Non-trainable params: 0\n",
            "_________________________________________________________________\n"
          ]
        }
      ],
      "source": [
        "model.summary()"
      ]
    },
    {
      "cell_type": "code",
      "execution_count": null,
      "metadata": {
        "id": "btPK-sAMpZml",
        "outputId": "b7b6f096-16c4-4bec-8eb6-cd463ab50e28"
      },
      "outputs": [
        {
          "name": "stdout",
          "output_type": "stream",
          "text": [
            "(60000, 28, 28)\n"
          ]
        }
      ],
      "source": [
        "from keras.datasets import mnist\n",
        "from keras.utils import to_categorical\n",
        "\n",
        "#loading the data\n",
        "(train_images, train_labels), (test_images, test_labels) = mnist.load_data()\n",
        "\n",
        "print (train_images.shape)\n",
        "\n",
        "train_images = train_images.reshape((60000, 28, 28, 1))  #reshape the image into 28*28 pixel\n",
        "train_images = train_images.astype('float32') / 255   #normalize the train data\n",
        "\n",
        "test_images = test_images.reshape((10000, 28, 28, 1)) #reshape the image into 28*28 pixel\n",
        "test_images = test_images.astype('float32') / 255 #normalize the test data\n",
        "\n",
        "\n",
        "#label encoding using One-Hot Encoding\n",
        "train_labels = to_categorical(train_labels)  \n",
        "test_labels = to_categorical(test_labels)"
      ]
    },
    {
      "cell_type": "code",
      "execution_count": null,
      "metadata": {
        "id": "JxmGKAfHpZmn",
        "outputId": "d20b18e5-7ca8-4af1-99cd-3df8c41593d7"
      },
      "outputs": [
        {
          "name": "stdout",
          "output_type": "stream",
          "text": [
            "Epoch 1/5\n",
            "60000/60000 [==============================] - 46s 767us/step - loss: 0.9870 - acc: 0.7452\n",
            "Epoch 2/5\n",
            "60000/60000 [==============================] - 51s 845us/step - loss: 0.2734 - acc: 0.9193\n",
            "Epoch 3/5\n",
            "60000/60000 [==============================] - 51s 849us/step - loss: 0.1957 - acc: 0.9432\n",
            "Epoch 4/5\n",
            "60000/60000 [==============================] - 55s 915us/step - loss: 0.1545 - acc: 0.9553\n",
            "Epoch 5/5\n",
            "60000/60000 [==============================] - 47s 789us/step - loss: 0.1303 - acc: 0.9620\n"
          ]
        },
        {
          "data": {
            "text/plain": [
              "<keras.callbacks.History at 0x11e1a8cf8>"
            ]
          },
          "execution_count": 9,
          "metadata": {},
          "output_type": "execute_result"
        }
      ],
      "source": [
        "batch_size = 100\n",
        "epochs = 5\n",
        "\n",
        "#finally fit the model with sgd optimizer and 'categorical_crossentropy' loss.\n",
        "model.compile(loss='categorical_crossentropy',\n",
        "              optimizer='sgd',\n",
        "              metrics=['accuracy'])\n",
        "\n",
        "model.fit(train_images, train_labels,\n",
        "          batch_size=batch_size,\n",
        "          epochs=epochs,\n",
        "          verbose=1\n",
        "          )"
      ]
    },
    {
      "cell_type": "markdown",
      "metadata": {
        "id": "_yETWdZYpZmo"
      },
      "source": [
        "Model evaluation"
      ]
    },
    {
      "cell_type": "code",
      "execution_count": null,
      "metadata": {
        "scrolled": true,
        "id": "AIZ50eJNpZmp",
        "outputId": "d22a3f7b-eee3-4057-b148-3b50934c3364"
      },
      "outputs": [
        {
          "name": "stdout",
          "output_type": "stream",
          "text": [
            "10000/10000 [==============================] - 3s 266us/step\n",
            "Test loss: 0.11137229395359755\n",
            "Test accuracy: 0.9673\n"
          ]
        }
      ],
      "source": [
        "#testing the model \n",
        "test_loss, test_acc = model.evaluate(test_images, test_labels)\n",
        "\n",
        "print('Test loss:', test_loss)\n",
        "print('Test accuracy:', test_acc)"
      ]
    },
    {
      "cell_type": "code",
      "execution_count": null,
      "metadata": {
        "id": "IpPxEK0ypZmr"
      },
      "outputs": [],
      "source": [
        ""
      ]
    }
  ],
  "metadata": {
    "kernelspec": {
      "display_name": "Python 3",
      "language": "python",
      "name": "python3"
    },
    "language_info": {
      "codemirror_mode": {
        "name": "ipython",
        "version": 3
      },
      "file_extension": ".py",
      "mimetype": "text/x-python",
      "name": "python",
      "nbconvert_exporter": "python",
      "pygments_lexer": "ipython3",
      "version": "3.6.3"
    },
    "colab": {
      "name": "Convolutional-neural-networks.ipynb",
      "provenance": [],
      "collapsed_sections": []
    }
  },
  "nbformat": 4,
  "nbformat_minor": 0
}