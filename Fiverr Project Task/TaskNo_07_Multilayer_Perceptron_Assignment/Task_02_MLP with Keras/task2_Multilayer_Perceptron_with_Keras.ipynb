{
  "cells": [
    {
      "cell_type": "markdown",
      "metadata": {
        "id": "L-kTU9RFyoMs"
      },
      "source": [
        "Based on: https://github.com/buomsoo-kim/Easy-deep-learning-with-Keras"
      ]
    },
    {
      "cell_type": "markdown",
      "metadata": {
        "id": "SGIowf5FyoM1"
      },
      "source": [
        "# Basics of MLP\n",
        "- Objective: create vanilla neural networks (i.e., Multilayer perceptrons) for simple regression/classification tasks with Keras"
      ]
    },
    {
      "cell_type": "markdown",
      "metadata": {
        "id": "Z82dpkQ9yoM3"
      },
      "source": [
        "## MLP Structures\n",
        "- Each MLP model is consisted of one input layer, several hidden layers, and one output layer\n",
        "- Number of neurons in each layer is not limited\n",
        "<img src=\"http://cs231n.github.io/assets/nn1/neural_net.jpeg\" style=\"width: 300px\"/>\n",
        "<br>\n",
        "<center>**MLP with one hidden layer**</center>\n",
        "- Number of input neurons: 3\n",
        "- Number of hidden neurons: 4\n",
        "- Number of output neurons: 2\n"
      ]
    },
    {
      "cell_type": "markdown",
      "metadata": {
        "id": "oZXbcX97yoM4"
      },
      "source": [
        "<img src=\"http://cs231n.github.io/assets/nn1/neural_net2.jpeg\" style=\"width: 500px\"/>\n",
        "<br>\n",
        "<center>**MLP with two hidden layers**</center>\n",
        "- Number of input neurons: 3\n",
        "- Number of hidden neurons: (4, 4)\n",
        "- Number of output neurons: 1\n"
      ]
    },
    {
      "cell_type": "markdown",
      "metadata": {
        "id": "masl5wiUyoM5"
      },
      "source": [
        "## MLP for Regression tasks\n",
        "- When the target (**y**) is continuous (real)\n",
        "- For loss function and evaluation metric, mean squared error (MSE) is commonly used"
      ]
    },
    {
      "cell_type": "code",
      "execution_count": null,
      "metadata": {
        "id": "jxmHWlPQyoM7",
        "outputId": "a41db520-e58c-4117-ecea-478667b1207a"
      },
      "outputs": [
        {
          "name": "stderr",
          "output_type": "stream",
          "text": [
            "Using TensorFlow backend.\n"
          ]
        }
      ],
      "source": [
        "from keras.datasets import boston_housing"
      ]
    },
    {
      "cell_type": "code",
      "execution_count": null,
      "metadata": {
        "id": "GpcI9WwUyoNA",
        "outputId": "375cce64-fbb8-4cfc-cb8e-dc9bc4c171a3"
      },
      "outputs": [
        {
          "name": "stdout",
          "output_type": "stream",
          "text": [
            "Downloading data from https://s3.amazonaws.com/keras-datasets/boston_housing.npz\n",
            "57344/57026 [==============================] - 0s 3us/step\n"
          ]
        }
      ],
      "source": [
        "(X_train, y_train), (X_test, y_test) = boston_housing.load_data()"
      ]
    },
    {
      "cell_type": "markdown",
      "metadata": {
        "id": "QcPW_QlJyoNC"
      },
      "source": [
        "### Dataset Description\n",
        "- Boston housing dataset has total 506 data instances (404 training & 102 test)\n",
        "- 13 attributes (features) to predict \"the median values of the houses at a location\"\n",
        "- Doc: https://keras.io/datasets/"
      ]
    },
    {
      "cell_type": "code",
      "execution_count": null,
      "metadata": {
        "id": "WxZLglSByoNG",
        "outputId": "5e07f445-a7b3-493e-d4f0-cbc0b2ebd853"
      },
      "outputs": [
        {
          "name": "stdout",
          "output_type": "stream",
          "text": [
            "(404, 13)\n",
            "(102, 13)\n",
            "(404,)\n",
            "(102,)\n"
          ]
        }
      ],
      "source": [
        "print(X_train.shape)\n",
        "print(X_test.shape)\n",
        "print(y_train.shape)\n",
        "print(y_test.shape)"
      ]
    },
    {
      "cell_type": "markdown",
      "metadata": {
        "id": "E-WWrasPyoNK"
      },
      "source": [
        "### 1. Creating a model\n",
        "- Keras model object can be created with Sequential class\n",
        "- At the outset, the model is empty per se. It is completed by **'adding'** additional layers and compilation\n",
        "- Doc: https://keras.io/models/sequential/"
      ]
    },
    {
      "cell_type": "code",
      "execution_count": null,
      "metadata": {
        "id": "q-3HqR9iyoNL"
      },
      "outputs": [],
      "source": [
        "from keras.models import Sequential"
      ]
    },
    {
      "cell_type": "code",
      "execution_count": null,
      "metadata": {
        "id": "AtN3n7yRyoNM"
      },
      "outputs": [],
      "source": [
        "model = Sequential()"
      ]
    },
    {
      "cell_type": "markdown",
      "metadata": {
        "id": "EyRSBBB5yoNN"
      },
      "source": [
        "### 1-1. Adding layers\n",
        "- Keras layers can be **added** to the model\n",
        "- Adding layers are like stacking lego blocks one by one\n",
        "- Doc: https://keras.io/layers/core/"
      ]
    },
    {
      "cell_type": "code",
      "execution_count": null,
      "metadata": {
        "id": "h4HYouRryoNP"
      },
      "outputs": [],
      "source": [
        "from keras.layers import Activation, Dense"
      ]
    },
    {
      "cell_type": "code",
      "execution_count": null,
      "metadata": {
        "id": "0y-GzAM3yoNQ",
        "outputId": "ce5b2318-f1aa-465e-b63d-2fe9b6c10279"
      },
      "outputs": [
        {
          "name": "stdout",
          "output_type": "stream",
          "text": [
            "WARNING:tensorflow:From C:\\Users\\Daniel\\.conda\\envs\\tensorflow\\lib\\site-packages\\tensorflow\\python\\framework\\op_def_library.py:263: colocate_with (from tensorflow.python.framework.ops) is deprecated and will be removed in a future version.\n",
            "Instructions for updating:\n",
            "Colocations handled automatically by placer.\n"
          ]
        }
      ],
      "source": [
        "# Keras model with two hidden layer with 10 neurons each \n",
        "model.add(Dense(10, input_shape = (13,)))    # Input layer => input_shape should be explicitly designated\n",
        "model.add(Activation('sigmoid'))\n",
        "model.add(Dense(10))                         # Hidden layer => only output dimension should be designated\n",
        "model.add(Activation('sigmoid'))\n",
        "model.add(Dense(10))                         # Hidden layer => only output dimension should be designated\n",
        "model.add(Activation('sigmoid'))\n",
        "model.add(Dense(1))                          # Output layer => output dimension = 1 since it is regression problem"
      ]
    },
    {
      "cell_type": "code",
      "execution_count": null,
      "metadata": {
        "id": "efvSprNkyoNT"
      },
      "outputs": [],
      "source": [
        "# This is equivalent to the above code block\n",
        "model.add(Dense(10, input_shape = (13,), activation = 'sigmoid'))\n",
        "model.add(Dense(10, activation = 'sigmoid'))\n",
        "model.add(Dense(10, activation = 'sigmoid'))\n",
        "model.add(Dense(1))"
      ]
    },
    {
      "cell_type": "markdown",
      "metadata": {
        "id": "ta3lxAkdyoNV"
      },
      "source": [
        "### 1-2. Model compile\n",
        "- Keras model should be \"compiled\" prior to training\n",
        "- Types of loss (function) and optimizer should be designated\n",
        "    - Doc (optimizers): https://keras.io/optimizers/\n",
        "    - Doc (losses): https://keras.io/losses/"
      ]
    },
    {
      "cell_type": "code",
      "execution_count": null,
      "metadata": {
        "id": "O20ALs8KyoNV"
      },
      "outputs": [],
      "source": [
        "from keras import optimizers"
      ]
    },
    {
      "cell_type": "code",
      "execution_count": null,
      "metadata": {
        "id": "TU0-95B0yoNW"
      },
      "outputs": [],
      "source": [
        "sgd = optimizers.SGD(lr = 0.01)    # stochastic gradient descent optimizer"
      ]
    },
    {
      "cell_type": "code",
      "execution_count": null,
      "metadata": {
        "id": "aLIrehMpyoNW"
      },
      "outputs": [],
      "source": [
        "model.compile(optimizer = sgd, loss = 'mean_squared_error', metrics = ['mse'])    # for regression problems, mean squared error (MSE) is often employed"
      ]
    },
    {
      "cell_type": "markdown",
      "metadata": {
        "id": "OE3tS4SDyoNX"
      },
      "source": [
        "### Summary of the model"
      ]
    },
    {
      "cell_type": "code",
      "execution_count": null,
      "metadata": {
        "scrolled": false,
        "id": "BouIqFdQyoNX",
        "outputId": "9ac8ccfb-70bd-415c-821e-9f43aae61d82"
      },
      "outputs": [
        {
          "name": "stdout",
          "output_type": "stream",
          "text": [
            "_________________________________________________________________\n",
            "Layer (type)                 Output Shape              Param #   \n",
            "=================================================================\n",
            "dense_1 (Dense)              (None, 10)                140       \n",
            "_________________________________________________________________\n",
            "activation_1 (Activation)    (None, 10)                0         \n",
            "_________________________________________________________________\n",
            "dense_2 (Dense)              (None, 10)                110       \n",
            "_________________________________________________________________\n",
            "activation_2 (Activation)    (None, 10)                0         \n",
            "_________________________________________________________________\n",
            "dense_3 (Dense)              (None, 10)                110       \n",
            "_________________________________________________________________\n",
            "activation_3 (Activation)    (None, 10)                0         \n",
            "_________________________________________________________________\n",
            "dense_4 (Dense)              (None, 1)                 11        \n",
            "_________________________________________________________________\n",
            "dense_5 (Dense)              (None, 10)                20        \n",
            "_________________________________________________________________\n",
            "dense_6 (Dense)              (None, 10)                110       \n",
            "_________________________________________________________________\n",
            "dense_7 (Dense)              (None, 10)                110       \n",
            "_________________________________________________________________\n",
            "dense_8 (Dense)              (None, 1)                 11        \n",
            "=================================================================\n",
            "Total params: 622\n",
            "Trainable params: 622\n",
            "Non-trainable params: 0\n",
            "_________________________________________________________________\n"
          ]
        }
      ],
      "source": [
        "model.summary()"
      ]
    },
    {
      "cell_type": "markdown",
      "metadata": {
        "id": "GKh-wc4MyoNY"
      },
      "source": [
        "### 2. Training\n",
        "- Training the model with training data provided"
      ]
    },
    {
      "cell_type": "code",
      "execution_count": null,
      "metadata": {
        "id": "YM1laivnyoNZ",
        "outputId": "c1eb9edc-9a88-4f57-a713-a72c40fce7a1"
      },
      "outputs": [
        {
          "name": "stdout",
          "output_type": "stream",
          "text": [
            "WARNING:tensorflow:From C:\\Users\\Daniel\\.conda\\envs\\tensorflow\\lib\\site-packages\\tensorflow\\python\\ops\\math_ops.py:3066: to_int32 (from tensorflow.python.ops.math_ops) is deprecated and will be removed in a future version.\n",
            "Instructions for updating:\n",
            "Use tf.cast instead.\n",
            "Epoch 1/100\n",
            "404/404 [==============================] - 1s 1ms/step - loss: 385.4242 - mean_squared_error: 385.4242\n",
            "Epoch 2/100\n",
            "404/404 [==============================] - 0s 30us/step - loss: 96.1017 - mean_squared_error: 96.1017\n",
            "Epoch 3/100\n",
            "404/404 [==============================] - 0s 22us/step - loss: 85.5624 - mean_squared_error: 85.5624\n",
            "Epoch 4/100\n",
            "404/404 [==============================] - 0s 22us/step - loss: 84.8892 - mean_squared_error: 84.8892\n",
            "Epoch 5/100\n",
            "404/404 [==============================] - 0s 22us/step - loss: 85.2516 - mean_squared_error: 85.2516\n",
            "Epoch 6/100\n",
            "404/404 [==============================] - 0s 25us/step - loss: 85.1707 - mean_squared_error: 85.1707\n",
            "Epoch 7/100\n",
            "404/404 [==============================] - 0s 25us/step - loss: 85.9869 - mean_squared_error: 85.9869\n",
            "Epoch 8/100\n",
            "404/404 [==============================] - 0s 25us/step - loss: 85.0725 - mean_squared_error: 85.0725\n",
            "Epoch 9/100\n",
            "404/404 [==============================] - 0s 25us/step - loss: 84.8818 - mean_squared_error: 84.8818\n",
            "Epoch 10/100\n",
            "404/404 [==============================] - 0s 25us/step - loss: 84.8649 - mean_squared_error: 84.8649\n",
            "Epoch 11/100\n",
            "404/404 [==============================] - 0s 22us/step - loss: 84.8450 - mean_squared_error: 84.8450\n",
            "Epoch 12/100\n",
            "404/404 [==============================] - 0s 25us/step - loss: 87.6975 - mean_squared_error: 87.6975\n",
            "Epoch 13/100\n",
            "404/404 [==============================] - 0s 25us/step - loss: 85.0814 - mean_squared_error: 85.0814\n",
            "Epoch 14/100\n",
            "404/404 [==============================] - 0s 25us/step - loss: 84.8549 - mean_squared_error: 84.8549\n",
            "Epoch 15/100\n",
            "404/404 [==============================] - 0s 27us/step - loss: 84.8168 - mean_squared_error: 84.8168\n",
            "Epoch 16/100\n",
            "404/404 [==============================] - 0s 25us/step - loss: 85.7339 - mean_squared_error: 85.7339\n",
            "Epoch 17/100\n",
            "404/404 [==============================] - 0s 25us/step - loss: 84.9795 - mean_squared_error: 84.9795\n",
            "Epoch 18/100\n",
            "404/404 [==============================] - 0s 27us/step - loss: 85.3330 - mean_squared_error: 85.3330\n",
            "Epoch 19/100\n",
            "404/404 [==============================] - 0s 27us/step - loss: 84.7287 - mean_squared_error: 84.7287\n",
            "Epoch 20/100\n",
            "404/404 [==============================] - 0s 25us/step - loss: 84.9953 - mean_squared_error: 84.9953\n",
            "Epoch 21/100\n",
            "404/404 [==============================] - 0s 30us/step - loss: 85.2005 - mean_squared_error: 85.2005\n",
            "Epoch 22/100\n",
            "404/404 [==============================] - 0s 27us/step - loss: 87.4597 - mean_squared_error: 87.4597\n",
            "Epoch 23/100\n",
            "404/404 [==============================] - 0s 25us/step - loss: 84.7200 - mean_squared_error: 84.7200\n",
            "Epoch 24/100\n",
            "404/404 [==============================] - 0s 25us/step - loss: 85.1759 - mean_squared_error: 85.1759\n",
            "Epoch 25/100\n",
            "404/404 [==============================] - 0s 25us/step - loss: 85.6760 - mean_squared_error: 85.6760\n",
            "Epoch 26/100\n",
            "404/404 [==============================] - 0s 25us/step - loss: 84.7801 - mean_squared_error: 84.7801\n",
            "Epoch 27/100\n",
            "404/404 [==============================] - 0s 25us/step - loss: 84.9256 - mean_squared_error: 84.9256\n",
            "Epoch 28/100\n",
            "404/404 [==============================] - 0s 25us/step - loss: 85.3066 - mean_squared_error: 85.3066\n",
            "Epoch 29/100\n",
            "404/404 [==============================] - 0s 27us/step - loss: 84.6834 - mean_squared_error: 84.6834\n",
            "Epoch 30/100\n",
            "404/404 [==============================] - 0s 27us/step - loss: 84.9257 - mean_squared_error: 84.9257\n",
            "Epoch 31/100\n",
            "404/404 [==============================] - 0s 25us/step - loss: 85.1908 - mean_squared_error: 85.1908\n",
            "Epoch 32/100\n",
            "404/404 [==============================] - 0s 25us/step - loss: 85.0595 - mean_squared_error: 85.0595\n",
            "Epoch 33/100\n",
            "404/404 [==============================] - 0s 25us/step - loss: 84.8472 - mean_squared_error: 84.8472\n",
            "Epoch 34/100\n",
            "404/404 [==============================] - 0s 27us/step - loss: 84.7067 - mean_squared_error: 84.7067\n",
            "Epoch 35/100\n",
            "404/404 [==============================] - 0s 27us/step - loss: 84.9353 - mean_squared_error: 84.9353\n",
            "Epoch 36/100\n",
            "404/404 [==============================] - 0s 27us/step - loss: 85.3146 - mean_squared_error: 85.3146\n",
            "Epoch 37/100\n",
            "404/404 [==============================] - 0s 25us/step - loss: 85.2318 - mean_squared_error: 85.2318\n",
            "Epoch 38/100\n",
            "404/404 [==============================] - 0s 22us/step - loss: 85.8280 - mean_squared_error: 85.8280\n",
            "Epoch 39/100\n",
            "404/404 [==============================] - 0s 25us/step - loss: 86.1566 - mean_squared_error: 86.1566\n",
            "Epoch 40/100\n",
            "404/404 [==============================] - 0s 25us/step - loss: 85.3841 - mean_squared_error: 85.3841\n",
            "Epoch 41/100\n",
            "404/404 [==============================] - 0s 22us/step - loss: 84.9163 - mean_squared_error: 84.9163\n",
            "Epoch 42/100\n",
            "404/404 [==============================] - 0s 27us/step - loss: 85.8083 - mean_squared_error: 85.8083\n",
            "Epoch 43/100\n",
            "404/404 [==============================] - 0s 27us/step - loss: 85.3153 - mean_squared_error: 85.3153\n",
            "Epoch 44/100\n",
            "404/404 [==============================] - ETA: 0s - loss: 96.1334 - mean_squared_error: 96.13 - 0s 25us/step - loss: 85.0616 - mean_squared_error: 85.0616\n",
            "Epoch 45/100\n",
            "404/404 [==============================] - 0s 25us/step - loss: 85.1183 - mean_squared_error: 85.1183\n",
            "Epoch 46/100\n",
            "404/404 [==============================] - 0s 25us/step - loss: 85.2005 - mean_squared_error: 85.2005\n",
            "Epoch 47/100\n",
            "404/404 [==============================] - 0s 25us/step - loss: 85.3538 - mean_squared_error: 85.3538\n",
            "Epoch 48/100\n",
            "404/404 [==============================] - 0s 27us/step - loss: 85.0292 - mean_squared_error: 85.0292\n",
            "Epoch 49/100\n",
            "404/404 [==============================] - 0s 25us/step - loss: 85.0059 - mean_squared_error: 85.0059\n",
            "Epoch 50/100\n",
            "404/404 [==============================] - 0s 25us/step - loss: 86.0155 - mean_squared_error: 86.0155\n",
            "Epoch 51/100\n",
            "404/404 [==============================] - 0s 25us/step - loss: 84.7618 - mean_squared_error: 84.7618\n",
            "Epoch 52/100\n",
            "404/404 [==============================] - 0s 27us/step - loss: 85.5058 - mean_squared_error: 85.5058\n",
            "Epoch 53/100\n",
            "404/404 [==============================] - 0s 25us/step - loss: 84.8724 - mean_squared_error: 84.8724\n",
            "Epoch 54/100\n",
            "404/404 [==============================] - 0s 30us/step - loss: 85.0834 - mean_squared_error: 85.0834\n",
            "Epoch 55/100\n",
            "404/404 [==============================] - 0s 22us/step - loss: 86.9928 - mean_squared_error: 86.9928\n",
            "Epoch 56/100\n",
            "404/404 [==============================] - 0s 25us/step - loss: 84.7276 - mean_squared_error: 84.7276\n",
            "Epoch 57/100\n",
            "404/404 [==============================] - 0s 25us/step - loss: 85.0388 - mean_squared_error: 85.0388\n",
            "Epoch 58/100\n",
            "404/404 [==============================] - 0s 27us/step - loss: 86.2870 - mean_squared_error: 86.2870\n",
            "Epoch 59/100\n",
            "404/404 [==============================] - 0s 25us/step - loss: 84.8135 - mean_squared_error: 84.8135\n",
            "Epoch 60/100\n",
            "404/404 [==============================] - 0s 22us/step - loss: 85.1962 - mean_squared_error: 85.1962\n",
            "Epoch 61/100\n",
            "404/404 [==============================] - 0s 27us/step - loss: 85.2153 - mean_squared_error: 85.2153\n",
            "Epoch 62/100\n",
            "404/404 [==============================] - 0s 25us/step - loss: 85.3011 - mean_squared_error: 85.3011\n",
            "Epoch 63/100\n",
            "404/404 [==============================] - 0s 25us/step - loss: 85.7592 - mean_squared_error: 85.7592\n",
            "Epoch 64/100\n",
            "404/404 [==============================] - 0s 25us/step - loss: 85.7286 - mean_squared_error: 85.7286\n",
            "Epoch 65/100\n",
            "404/404 [==============================] - 0s 25us/step - loss: 84.8015 - mean_squared_error: 84.8015\n",
            "Epoch 66/100\n",
            "404/404 [==============================] - 0s 25us/step - loss: 85.3277 - mean_squared_error: 85.3277\n",
            "Epoch 67/100\n",
            "404/404 [==============================] - 0s 25us/step - loss: 85.0930 - mean_squared_error: 85.0930\n",
            "Epoch 68/100\n",
            "404/404 [==============================] - 0s 25us/step - loss: 84.9277 - mean_squared_error: 84.9277\n",
            "Epoch 69/100\n",
            "404/404 [==============================] - 0s 25us/step - loss: 85.0696 - mean_squared_error: 85.0696\n",
            "Epoch 70/100\n",
            "404/404 [==============================] - 0s 25us/step - loss: 84.9966 - mean_squared_error: 84.9966\n",
            "Epoch 71/100\n",
            "404/404 [==============================] - 0s 25us/step - loss: 85.1461 - mean_squared_error: 85.1461\n",
            "Epoch 72/100\n",
            "404/404 [==============================] - 0s 27us/step - loss: 84.9787 - mean_squared_error: 84.9787\n",
            "Epoch 73/100\n",
            "404/404 [==============================] - 0s 25us/step - loss: 85.5027 - mean_squared_error: 85.5027\n",
            "Epoch 74/100\n",
            "404/404 [==============================] - 0s 25us/step - loss: 84.8605 - mean_squared_error: 84.8605\n",
            "Epoch 75/100\n",
            "404/404 [==============================] - 0s 25us/step - loss: 85.1596 - mean_squared_error: 85.1596\n",
            "Epoch 76/100\n",
            "404/404 [==============================] - 0s 25us/step - loss: 85.0755 - mean_squared_error: 85.0755\n",
            "Epoch 77/100\n",
            "404/404 [==============================] - 0s 25us/step - loss: 84.9410 - mean_squared_error: 84.9410\n",
            "Epoch 78/100\n",
            "404/404 [==============================] - 0s 25us/step - loss: 85.4106 - mean_squared_error: 85.4106\n",
            "Epoch 79/100\n",
            "404/404 [==============================] - 0s 27us/step - loss: 85.5117 - mean_squared_error: 85.5117\n",
            "Epoch 80/100\n",
            "404/404 [==============================] - 0s 27us/step - loss: 85.8355 - mean_squared_error: 85.8355\n",
            "Epoch 81/100\n",
            "404/404 [==============================] - 0s 22us/step - loss: 84.9862 - mean_squared_error: 84.9862\n",
            "Epoch 82/100\n",
            "404/404 [==============================] - 0s 25us/step - loss: 85.2702 - mean_squared_error: 85.2702\n",
            "Epoch 83/100\n",
            "404/404 [==============================] - 0s 25us/step - loss: 85.4443 - mean_squared_error: 85.4443\n",
            "Epoch 84/100\n",
            "404/404 [==============================] - 0s 22us/step - loss: 85.5600 - mean_squared_error: 85.5600\n",
            "Epoch 85/100\n",
            "404/404 [==============================] - 0s 25us/step - loss: 85.0579 - mean_squared_error: 85.0579\n",
            "Epoch 86/100\n",
            "404/404 [==============================] - 0s 22us/step - loss: 84.8292 - mean_squared_error: 84.8292\n",
            "Epoch 87/100\n",
            "404/404 [==============================] - 0s 27us/step - loss: 85.1179 - mean_squared_error: 85.1179\n",
            "Epoch 88/100\n",
            "404/404 [==============================] - 0s 22us/step - loss: 84.7832 - mean_squared_error: 84.7832\n",
            "Epoch 89/100\n",
            "404/404 [==============================] - 0s 25us/step - loss: 85.2689 - mean_squared_error: 85.2689\n",
            "Epoch 90/100\n",
            "404/404 [==============================] - 0s 25us/step - loss: 84.7791 - mean_squared_error: 84.7791\n",
            "Epoch 91/100\n",
            "404/404 [==============================] - 0s 25us/step - loss: 85.0326 - mean_squared_error: 85.0326\n",
            "Epoch 92/100\n",
            "404/404 [==============================] - 0s 22us/step - loss: 85.1718 - mean_squared_error: 85.1718\n",
            "Epoch 93/100\n",
            "404/404 [==============================] - 0s 25us/step - loss: 85.0160 - mean_squared_error: 85.0160\n",
            "Epoch 94/100\n",
            "404/404 [==============================] - 0s 22us/step - loss: 85.0949 - mean_squared_error: 85.0949\n",
            "Epoch 95/100\n",
            "404/404 [==============================] - 0s 25us/step - loss: 84.9866 - mean_squared_error: 84.9866\n",
            "Epoch 96/100\n",
            "404/404 [==============================] - 0s 25us/step - loss: 86.1239 - mean_squared_error: 86.1239\n",
            "Epoch 97/100\n",
            "404/404 [==============================] - 0s 22us/step - loss: 84.9723 - mean_squared_error: 84.9723\n",
            "Epoch 98/100\n",
            "404/404 [==============================] - 0s 22us/step - loss: 85.0524 - mean_squared_error: 85.0524\n",
            "Epoch 99/100\n",
            "404/404 [==============================] - 0s 27us/step - loss: 84.7371 - mean_squared_error: 84.7371\n",
            "Epoch 100/100\n",
            "404/404 [==============================] - 0s 22us/step - loss: 85.1204 - mean_squared_error: 85.1204\n"
          ]
        },
        {
          "data": {
            "text/plain": [
              "<keras.callbacks.History at 0xe3d4e80>"
            ]
          },
          "execution_count": 13,
          "metadata": {},
          "output_type": "execute_result"
        }
      ],
      "source": [
        "model.fit(X_train, y_train, batch_size = 50, epochs = 100, verbose = 1)"
      ]
    },
    {
      "cell_type": "markdown",
      "metadata": {
        "id": "LcLti956yoNZ"
      },
      "source": [
        "### 3. Evaluation\n",
        "- Keras model can be evaluated with evaluate() function\n",
        "- Evaluation results are contained in a list\n",
        "    - Doc (metrics): https://keras.io/metrics/"
      ]
    },
    {
      "cell_type": "code",
      "execution_count": null,
      "metadata": {
        "id": "ewyL0K2RyoNa",
        "outputId": "f0fb8a78-699f-4721-9eda-aaab0f4ca8d0"
      },
      "outputs": [
        {
          "name": "stdout",
          "output_type": "stream",
          "text": [
            "102/102 [==============================] - 0s 735us/step\n"
          ]
        }
      ],
      "source": [
        "results = model.evaluate(X_test, y_test)"
      ]
    },
    {
      "cell_type": "code",
      "execution_count": null,
      "metadata": {
        "id": "8jsZFLJiyoNb",
        "outputId": "b26c69f8-9313-4473-d283-42befd571789"
      },
      "outputs": [
        {
          "name": "stdout",
          "output_type": "stream",
          "text": [
            "['loss', 'mean_squared_error']\n",
            "[83.25924533021217, 83.25924533021217]\n"
          ]
        }
      ],
      "source": [
        "print(model.metrics_names)     # list of metric names the model is employing\n",
        "print(results)                 # actual figure of metrics computed"
      ]
    },
    {
      "cell_type": "code",
      "execution_count": null,
      "metadata": {
        "id": "pZOpQqtYyoNc",
        "outputId": "7db607e0-b586-4a16-aa36-1f40f036b2dc"
      },
      "outputs": [
        {
          "name": "stdout",
          "output_type": "stream",
          "text": [
            "loss:  83.25924533021217\n",
            "mse:  83.25924533021217\n"
          ]
        }
      ],
      "source": [
        "print('loss: ', results[0])\n",
        "print('mse: ', results[1])"
      ]
    },
    {
      "cell_type": "markdown",
      "metadata": {
        "id": "fV3XI1WSyoNd"
      },
      "source": [
        "## MLP for classification tasks\n",
        "- When the target (**y**) is discrete (categorical)\n",
        "- For loss function, cross-entropy is used and for evaluation metric, accuracy is commonly used"
      ]
    },
    {
      "cell_type": "code",
      "execution_count": null,
      "metadata": {
        "id": "80De8kg6yoNe"
      },
      "outputs": [],
      "source": [
        "from sklearn.datasets import load_breast_cancer\n",
        "from sklearn.model_selection import train_test_split"
      ]
    },
    {
      "cell_type": "code",
      "execution_count": null,
      "metadata": {
        "id": "AZRZgF1CyoNe"
      },
      "outputs": [],
      "source": [
        "whole_data = load_breast_cancer()"
      ]
    },
    {
      "cell_type": "code",
      "execution_count": null,
      "metadata": {
        "id": "WEJRFz3hyoNf"
      },
      "outputs": [],
      "source": [
        "X_data = whole_data.data\n",
        "y_data = whole_data.target"
      ]
    },
    {
      "cell_type": "code",
      "execution_count": null,
      "metadata": {
        "id": "f_ympv9JyoNf"
      },
      "outputs": [],
      "source": [
        "X_train, X_test, y_train, y_test = train_test_split(X_data, y_data, test_size = 0.3, random_state = 7) "
      ]
    },
    {
      "cell_type": "markdown",
      "metadata": {
        "id": "S7sZwtMvyoNg"
      },
      "source": [
        "### Dataset Description\n",
        "- Breast cancer dataset has total 569 data instances (212 malign, 357 benign instances)\n",
        "- 30 attributes (features) to predict the binary class (M/B)\n",
        "- Doc: http://scikit-learn.org/stable/modules/generated/sklearn.datasets.load_breast_cancer.html#sklearn.datasets.load_breast_cancer"
      ]
    },
    {
      "cell_type": "code",
      "execution_count": null,
      "metadata": {
        "id": "SHdjBXoJyoNg",
        "outputId": "49e2dd7b-f06c-4e53-f4f2-7e06a4aa6473"
      },
      "outputs": [
        {
          "name": "stdout",
          "output_type": "stream",
          "text": [
            "(398, 30)\n",
            "(171, 30)\n",
            "(398,)\n",
            "(171,)\n"
          ]
        }
      ],
      "source": [
        "print(X_train.shape)\n",
        "print(X_test.shape)\n",
        "print(y_train.shape)\n",
        "print(y_test.shape)"
      ]
    },
    {
      "cell_type": "markdown",
      "metadata": {
        "id": "NGe1R3csyoNk"
      },
      "source": [
        "### 1. Creating a model\n",
        "- Same with regression model at the outset"
      ]
    },
    {
      "cell_type": "code",
      "execution_count": null,
      "metadata": {
        "id": "7tun6pGyyoNk",
        "outputId": "30cd9689-fd32-4969-d0fd-d5c2864247c6"
      },
      "outputs": [
        {
          "name": "stderr",
          "output_type": "stream",
          "text": [
            "Using TensorFlow backend.\n"
          ]
        }
      ],
      "source": [
        "from keras.models import Sequential"
      ]
    },
    {
      "cell_type": "code",
      "execution_count": null,
      "metadata": {
        "id": "eYg1y2gryoNl"
      },
      "outputs": [],
      "source": [
        "model = Sequential()"
      ]
    },
    {
      "cell_type": "markdown",
      "metadata": {
        "id": "OLZPm1IMyoNm"
      },
      "source": [
        "### 1-1. Adding layers\n",
        "- Keras layers can be **added** to the model\n",
        "- Adding layers are like stacking lego blocks one by one\n",
        "- It should be noted that as this is a classification problem, sigmoid layer (softmax for multi-class problems) should be added\n",
        "- Doc: https://keras.io/layers/core/"
      ]
    },
    {
      "cell_type": "code",
      "execution_count": null,
      "metadata": {
        "id": "3DesvkClyoNn",
        "outputId": "5def4c71-b1cb-419f-9496-b4313a8076f6"
      },
      "outputs": [
        {
          "name": "stdout",
          "output_type": "stream",
          "text": [
            "WARNING:tensorflow:From C:\\Users\\Daniel\\.conda\\envs\\tensorflow\\lib\\site-packages\\tensorflow\\python\\framework\\op_def_library.py:263: colocate_with (from tensorflow.python.framework.ops) is deprecated and will be removed in a future version.\n",
            "Instructions for updating:\n",
            "Colocations handled automatically by placer.\n"
          ]
        }
      ],
      "source": [
        "# Keras model with two hidden layer with 10 neurons each \n",
        "model.add(Dense(10, input_shape = (30,)))    # Input layer => input_shape should be explicitly designated\n",
        "model.add(Activation('sigmoid'))\n",
        "model.add(Dense(10))                         # Hidden layer => only output dimension should be designated\n",
        "model.add(Activation('sigmoid'))\n",
        "model.add(Dense(10))                         # Hidden layer => only output dimension should be designated\n",
        "model.add(Activation('sigmoid'))\n",
        "model.add(Dense(1))                          # Output layer => output dimension = 1 since it is regression problem\n",
        "model.add(Activation('sigmoid'))"
      ]
    },
    {
      "cell_type": "code",
      "execution_count": null,
      "metadata": {
        "collapsed": true,
        "id": "64j61T-VyoNo"
      },
      "outputs": [],
      "source": [
        "# This is equivalent to the above code block\n",
        "model.add(Dense(10, input_shape = (13,), activation = 'sigmoid'))\n",
        "model.add(Dense(10, activation = 'sigmoid'))\n",
        "model.add(Dense(10, activation = 'sigmoid'))\n",
        "model.add(Dense(1, activation = 'sigmoid'))"
      ]
    },
    {
      "cell_type": "markdown",
      "metadata": {
        "id": "bbA2VG8LyoNp"
      },
      "source": [
        "### 1-2. Model compile\n",
        "- Keras model should be \"compiled\" prior to training\n",
        "- Types of loss (function) and optimizer should be designated\n",
        "    - Doc (optimizers): https://keras.io/optimizers/\n",
        "    - Doc (losses): https://keras.io/losses/"
      ]
    },
    {
      "cell_type": "code",
      "execution_count": null,
      "metadata": {
        "id": "KhXUYb7syoNq"
      },
      "outputs": [],
      "source": [
        "from keras import optimizers"
      ]
    },
    {
      "cell_type": "code",
      "execution_count": null,
      "metadata": {
        "id": "mhVe0rRCyoNr"
      },
      "outputs": [],
      "source": [
        "sgd = optimizers.SGD(lr = 0.01)    # stochastic gradient descent optimizer"
      ]
    },
    {
      "cell_type": "code",
      "execution_count": null,
      "metadata": {
        "id": "LIKWe1MCyoNr"
      },
      "outputs": [],
      "source": [
        "model.compile(optimizer = sgd, loss = 'binary_crossentropy', metrics = ['accuracy'])"
      ]
    },
    {
      "cell_type": "markdown",
      "metadata": {
        "id": "oprLkR6UyoNs"
      },
      "source": [
        "### Summary of the model"
      ]
    },
    {
      "cell_type": "code",
      "execution_count": null,
      "metadata": {
        "scrolled": true,
        "id": "pQK93GeZyoNs",
        "outputId": "db15c021-6ad0-470f-96bf-9c77c18c4004"
      },
      "outputs": [
        {
          "name": "stdout",
          "output_type": "stream",
          "text": [
            "_________________________________________________________________\n",
            "Layer (type)                 Output Shape              Param #   \n",
            "=================================================================\n",
            "dense_1 (Dense)              (None, 10)                310       \n",
            "_________________________________________________________________\n",
            "activation_1 (Activation)    (None, 10)                0         \n",
            "_________________________________________________________________\n",
            "dense_2 (Dense)              (None, 10)                110       \n",
            "_________________________________________________________________\n",
            "activation_2 (Activation)    (None, 10)                0         \n",
            "_________________________________________________________________\n",
            "dense_3 (Dense)              (None, 10)                110       \n",
            "_________________________________________________________________\n",
            "activation_3 (Activation)    (None, 10)                0         \n",
            "_________________________________________________________________\n",
            "dense_4 (Dense)              (None, 1)                 11        \n",
            "_________________________________________________________________\n",
            "activation_4 (Activation)    (None, 1)                 0         \n",
            "=================================================================\n",
            "Total params: 541\n",
            "Trainable params: 541\n",
            "Non-trainable params: 0\n",
            "_________________________________________________________________\n"
          ]
        }
      ],
      "source": [
        "model.summary()"
      ]
    },
    {
      "cell_type": "markdown",
      "metadata": {
        "id": "MRXsLPY8yoNt"
      },
      "source": [
        "### 2. Training\n",
        "- Training the model with training data provided"
      ]
    },
    {
      "cell_type": "code",
      "execution_count": null,
      "metadata": {
        "id": "ay4dghaqyoNt",
        "outputId": "4a53579b-5242-4d50-f1fd-fa4167d59f56"
      },
      "outputs": [
        {
          "name": "stdout",
          "output_type": "stream",
          "text": [
            "WARNING:tensorflow:From C:\\Users\\Daniel\\.conda\\envs\\tensorflow\\lib\\site-packages\\tensorflow\\python\\ops\\math_ops.py:3066: to_int32 (from tensorflow.python.ops.math_ops) is deprecated and will be removed in a future version.\n",
            "Instructions for updating:\n",
            "Use tf.cast instead.\n",
            "Epoch 1/100\n",
            "398/398 [==============================] - 1s 2ms/step - loss: 0.6757 - acc: 0.6055\n",
            "Epoch 2/100\n",
            "398/398 [==============================] - 0s 38us/step - loss: 0.6750 - acc: 0.6055\n",
            "Epoch 3/100\n",
            "398/398 [==============================] - 0s 30us/step - loss: 0.6740 - acc: 0.6055\n",
            "Epoch 4/100\n",
            "398/398 [==============================] - 0s 25us/step - loss: 0.6732 - acc: 0.6055\n",
            "Epoch 5/100\n",
            "398/398 [==============================] - 0s 33us/step - loss: 0.6728 - acc: 0.6055\n",
            "Epoch 6/100\n",
            "398/398 [==============================] - 0s 35us/step - loss: 0.6725 - acc: 0.6055\n",
            "Epoch 7/100\n",
            "398/398 [==============================] - 0s 33us/step - loss: 0.6722 - acc: 0.6055\n",
            "Epoch 8/100\n",
            "398/398 [==============================] - 0s 60us/step - loss: 0.6720 - acc: 0.6055\n",
            "Epoch 9/100\n",
            "398/398 [==============================] - 0s 33us/step - loss: 0.6718 - acc: 0.6055\n",
            "Epoch 10/100\n",
            "398/398 [==============================] - 0s 50us/step - loss: 0.6716 - acc: 0.6055\n",
            "Epoch 11/100\n",
            "398/398 [==============================] - 0s 33us/step - loss: 0.6714 - acc: 0.6055\n",
            "Epoch 12/100\n",
            "398/398 [==============================] - 0s 35us/step - loss: 0.6714 - acc: 0.6055\n",
            "Epoch 13/100\n",
            "398/398 [==============================] - 0s 50us/step - loss: 0.6713 - acc: 0.6055\n",
            "Epoch 14/100\n",
            "398/398 [==============================] - 0s 33us/step - loss: 0.6712 - acc: 0.6055\n",
            "Epoch 15/100\n",
            "398/398 [==============================] - 0s 30us/step - loss: 0.6711 - acc: 0.6055\n",
            "Epoch 16/100\n",
            "398/398 [==============================] - 0s 45us/step - loss: 0.6711 - acc: 0.6055\n",
            "Epoch 17/100\n",
            "398/398 [==============================] - 0s 33us/step - loss: 0.6711 - acc: 0.6055\n",
            "Epoch 18/100\n",
            "398/398 [==============================] - 0s 33us/step - loss: 0.6710 - acc: 0.6055\n",
            "Epoch 19/100\n",
            "398/398 [==============================] - 0s 58us/step - loss: 0.6709 - acc: 0.6055\n",
            "Epoch 20/100\n",
            "398/398 [==============================] - 0s 33us/step - loss: 0.6709 - acc: 0.6055\n",
            "Epoch 21/100\n",
            "398/398 [==============================] - 0s 38us/step - loss: 0.6708 - acc: 0.6055\n",
            "Epoch 22/100\n",
            "398/398 [==============================] - 0s 40us/step - loss: 0.6709 - acc: 0.6055\n",
            "Epoch 23/100\n",
            "398/398 [==============================] - 0s 33us/step - loss: 0.6708 - acc: 0.6055\n",
            "Epoch 24/100\n",
            "398/398 [==============================] - ETA: 0s - loss: 0.7279 - acc: 0.480 - 0s 50us/step - loss: 0.6709 - acc: 0.6055\n",
            "Epoch 25/100\n",
            "398/398 [==============================] - 0s 28us/step - loss: 0.6708 - acc: 0.6055\n",
            "Epoch 26/100\n",
            "398/398 [==============================] - 0s 40us/step - loss: 0.6708 - acc: 0.6055\n",
            "Epoch 27/100\n",
            "398/398 [==============================] - 0s 33us/step - loss: 0.6708 - acc: 0.6055\n",
            "Epoch 28/100\n",
            "398/398 [==============================] - 0s 50us/step - loss: 0.6708 - acc: 0.6055\n",
            "Epoch 29/100\n",
            "398/398 [==============================] - 0s 38us/step - loss: 0.6708 - acc: 0.6055\n",
            "Epoch 30/100\n",
            "398/398 [==============================] - 0s 33us/step - loss: 0.6707 - acc: 0.6055\n",
            "Epoch 31/100\n",
            "398/398 [==============================] - 0s 45us/step - loss: 0.6709 - acc: 0.6055\n",
            "Epoch 32/100\n",
            "398/398 [==============================] - 0s 35us/step - loss: 0.6708 - acc: 0.6055\n",
            "Epoch 33/100\n",
            "398/398 [==============================] - 0s 38us/step - loss: 0.6707 - acc: 0.6055\n",
            "Epoch 34/100\n",
            "398/398 [==============================] - 0s 63us/step - loss: 0.6708 - acc: 0.6055\n",
            "Epoch 35/100\n",
            "398/398 [==============================] - 0s 30us/step - loss: 0.6707 - acc: 0.6055\n",
            "Epoch 36/100\n",
            "398/398 [==============================] - 0s 43us/step - loss: 0.6707 - acc: 0.6055\n",
            "Epoch 37/100\n",
            "398/398 [==============================] - 0s 40us/step - loss: 0.6707 - acc: 0.6055\n",
            "Epoch 38/100\n",
            "398/398 [==============================] - 0s 35us/step - loss: 0.6707 - acc: 0.6055\n",
            "Epoch 39/100\n",
            "398/398 [==============================] - 0s 35us/step - loss: 0.6708 - acc: 0.6055\n",
            "Epoch 40/100\n",
            "398/398 [==============================] - 0s 30us/step - loss: 0.6707 - acc: 0.6055\n",
            "Epoch 41/100\n",
            "398/398 [==============================] - 0s 35us/step - loss: 0.6708 - acc: 0.6055\n",
            "Epoch 42/100\n",
            "398/398 [==============================] - 0s 30us/step - loss: 0.6708 - acc: 0.6055\n",
            "Epoch 43/100\n",
            "398/398 [==============================] - 0s 63us/step - loss: 0.6708 - acc: 0.6055\n",
            "Epoch 44/100\n",
            "398/398 [==============================] - 0s 40us/step - loss: 0.6707 - acc: 0.6055\n",
            "Epoch 45/100\n",
            "398/398 [==============================] - 0s 53us/step - loss: 0.6707 - acc: 0.6055\n",
            "Epoch 46/100\n",
            "398/398 [==============================] - 0s 33us/step - loss: 0.6708 - acc: 0.6055\n",
            "Epoch 47/100\n",
            "398/398 [==============================] - 0s 35us/step - loss: 0.6708 - acc: 0.6055\n",
            "Epoch 48/100\n",
            "398/398 [==============================] - 0s 60us/step - loss: 0.6707 - acc: 0.6055\n",
            "Epoch 49/100\n",
            "398/398 [==============================] - 0s 38us/step - loss: 0.6707 - acc: 0.6055\n",
            "Epoch 50/100\n",
            "398/398 [==============================] - 0s 43us/step - loss: 0.6708 - acc: 0.6055\n",
            "Epoch 51/100\n",
            "398/398 [==============================] - 0s 40us/step - loss: 0.6708 - acc: 0.6055\n",
            "Epoch 52/100\n",
            "398/398 [==============================] - 0s 28us/step - loss: 0.6707 - acc: 0.6055\n",
            "Epoch 53/100\n",
            "398/398 [==============================] - 0s 50us/step - loss: 0.6708 - acc: 0.6055\n",
            "Epoch 54/100\n",
            "398/398 [==============================] - 0s 35us/step - loss: 0.6707 - acc: 0.6055\n",
            "Epoch 55/100\n",
            "398/398 [==============================] - 0s 28us/step - loss: 0.6707 - acc: 0.6055\n",
            "Epoch 56/100\n",
            "398/398 [==============================] - 0s 35us/step - loss: 0.6707 - acc: 0.6055\n",
            "Epoch 57/100\n",
            "398/398 [==============================] - 0s 28us/step - loss: 0.6708 - acc: 0.6055\n",
            "Epoch 58/100\n",
            "398/398 [==============================] - 0s 35us/step - loss: 0.6707 - acc: 0.6055\n",
            "Epoch 59/100\n",
            "398/398 [==============================] - 0s 30us/step - loss: 0.6707 - acc: 0.6055\n",
            "Epoch 60/100\n",
            "398/398 [==============================] - 0s 53us/step - loss: 0.6707 - acc: 0.6055\n",
            "Epoch 61/100\n",
            "398/398 [==============================] - 0s 40us/step - loss: 0.6708 - acc: 0.6055\n",
            "Epoch 62/100\n",
            "398/398 [==============================] - 0s 35us/step - loss: 0.6707 - acc: 0.6055\n",
            "Epoch 63/100\n",
            "398/398 [==============================] - 0s 23us/step - loss: 0.6707 - acc: 0.6055\n",
            "Epoch 64/100\n",
            "398/398 [==============================] - 0s 30us/step - loss: 0.6707 - acc: 0.6055\n",
            "Epoch 65/100\n",
            "398/398 [==============================] - 0s 33us/step - loss: 0.6708 - acc: 0.6055\n",
            "Epoch 66/100\n",
            "398/398 [==============================] - 0s 33us/step - loss: 0.6708 - acc: 0.6055\n",
            "Epoch 67/100\n",
            "398/398 [==============================] - 0s 68us/step - loss: 0.6708 - acc: 0.6055\n",
            "Epoch 68/100\n",
            "398/398 [==============================] - 0s 28us/step - loss: 0.6708 - acc: 0.6055\n",
            "Epoch 69/100\n",
            "398/398 [==============================] - 0s 50us/step - loss: 0.6708 - acc: 0.6055\n",
            "Epoch 70/100\n",
            "398/398 [==============================] - 0s 33us/step - loss: 0.6707 - acc: 0.6055\n",
            "Epoch 71/100\n",
            "398/398 [==============================] - 0s 40us/step - loss: 0.6707 - acc: 0.6055\n",
            "Epoch 72/100\n",
            "398/398 [==============================] - 0s 28us/step - loss: 0.6707 - acc: 0.6055\n",
            "Epoch 73/100\n",
            "398/398 [==============================] - 0s 35us/step - loss: 0.6707 - acc: 0.6055\n",
            "Epoch 74/100\n",
            "398/398 [==============================] - 0s 33us/step - loss: 0.6708 - acc: 0.6055\n",
            "Epoch 75/100\n",
            "398/398 [==============================] - 0s 33us/step - loss: 0.6707 - acc: 0.6055\n",
            "Epoch 76/100\n",
            "398/398 [==============================] - 0s 38us/step - loss: 0.6707 - acc: 0.6055\n",
            "Epoch 77/100\n",
            "398/398 [==============================] - 0s 35us/step - loss: 0.6707 - acc: 0.6055\n",
            "Epoch 78/100\n",
            "398/398 [==============================] - 0s 35us/step - loss: 0.6707 - acc: 0.6055\n",
            "Epoch 79/100\n",
            "398/398 [==============================] - 0s 38us/step - loss: 0.6708 - acc: 0.6055\n",
            "Epoch 80/100\n",
            "398/398 [==============================] - 0s 55us/step - loss: 0.6707 - acc: 0.6055\n",
            "Epoch 81/100\n",
            "398/398 [==============================] - 0s 28us/step - loss: 0.6708 - acc: 0.6055\n",
            "Epoch 82/100\n",
            "398/398 [==============================] - 0s 48us/step - loss: 0.6707 - acc: 0.6055\n",
            "Epoch 83/100\n",
            "398/398 [==============================] - 0s 38us/step - loss: 0.6708 - acc: 0.6055\n",
            "Epoch 84/100\n",
            "398/398 [==============================] - 0s 28us/step - loss: 0.6707 - acc: 0.6055\n",
            "Epoch 85/100\n",
            "398/398 [==============================] - 0s 33us/step - loss: 0.6708 - acc: 0.6055\n",
            "Epoch 86/100\n",
            "398/398 [==============================] - 0s 33us/step - loss: 0.6708 - acc: 0.6055\n",
            "Epoch 87/100\n",
            "398/398 [==============================] - 0s 35us/step - loss: 0.6707 - acc: 0.6055\n",
            "Epoch 88/100\n",
            "398/398 [==============================] - 0s 30us/step - loss: 0.6708 - acc: 0.6055\n",
            "Epoch 89/100\n",
            "398/398 [==============================] - 0s 65us/step - loss: 0.6707 - acc: 0.6055\n",
            "Epoch 90/100\n",
            "398/398 [==============================] - 0s 28us/step - loss: 0.6708 - acc: 0.6055\n",
            "Epoch 91/100\n",
            "398/398 [==============================] - 0s 38us/step - loss: 0.6707 - acc: 0.6055\n",
            "Epoch 92/100\n",
            "398/398 [==============================] - 0s 28us/step - loss: 0.6707 - acc: 0.6055\n",
            "Epoch 93/100\n",
            "398/398 [==============================] - 0s 35us/step - loss: 0.6707 - acc: 0.6055\n",
            "Epoch 94/100\n",
            "398/398 [==============================] - 0s 28us/step - loss: 0.6710 - acc: 0.6055\n",
            "Epoch 95/100\n",
            "398/398 [==============================] - 0s 63us/step - loss: 0.6707 - acc: 0.6055\n",
            "Epoch 96/100\n",
            "398/398 [==============================] - 0s 33us/step - loss: 0.6707 - acc: 0.6055\n",
            "Epoch 97/100\n",
            "398/398 [==============================] - 0s 35us/step - loss: 0.6708 - acc: 0.6055\n",
            "Epoch 98/100\n",
            "398/398 [==============================] - 0s 25us/step - loss: 0.6707 - acc: 0.6055\n",
            "Epoch 99/100\n",
            "398/398 [==============================] - 0s 35us/step - loss: 0.6707 - acc: 0.6055\n",
            "Epoch 100/100\n",
            "398/398 [==============================] - 0s 30us/step - loss: 0.6707 - acc: 0.6055\n"
          ]
        },
        {
          "data": {
            "text/plain": [
              "<keras.callbacks.History at 0xe430d68>"
            ]
          },
          "execution_count": 16,
          "metadata": {},
          "output_type": "execute_result"
        }
      ],
      "source": [
        "model.fit(X_train, y_train, batch_size = 50, epochs = 100, verbose = 1)"
      ]
    },
    {
      "cell_type": "markdown",
      "metadata": {
        "id": "SrxVggvKyoNu"
      },
      "source": [
        "### 3. Evaluation\n",
        "- Keras model can be evaluated with evaluate() function\n",
        "- Evaluation results are contained in a list\n",
        "    - Doc (metrics): https://keras.io/metrics/"
      ]
    },
    {
      "cell_type": "code",
      "execution_count": null,
      "metadata": {
        "id": "MXKxxhEOyoNu",
        "outputId": "0acad6ba-c547-4e05-dea4-5ceac1f3f8dd"
      },
      "outputs": [
        {
          "name": "stdout",
          "output_type": "stream",
          "text": [
            "171/171 [==============================] - 0s 561us/step\n"
          ]
        }
      ],
      "source": [
        "results = model.evaluate(X_test, y_test)"
      ]
    },
    {
      "cell_type": "code",
      "execution_count": null,
      "metadata": {
        "id": "L5q7_ht5yoNv",
        "outputId": "1eac0309-40a3-4375-c004-0da968c69d16"
      },
      "outputs": [
        {
          "name": "stdout",
          "output_type": "stream",
          "text": [
            "['loss', 'acc']\n",
            "[0.6394622329382869, 0.6783625724022848]\n"
          ]
        }
      ],
      "source": [
        "print(model.metrics_names)     # list of metric names the model is employing\n",
        "print(results)                 # actual figure of metrics computed"
      ]
    },
    {
      "cell_type": "code",
      "execution_count": null,
      "metadata": {
        "id": "VlnbGFLwyoNw",
        "outputId": "20bc467d-ffc7-43b5-c6c1-7a765b03e37f"
      },
      "outputs": [
        {
          "name": "stdout",
          "output_type": "stream",
          "text": [
            "loss:  0.638706070638\n",
            "accuracy:  0.678362572402\n"
          ]
        }
      ],
      "source": [
        "print('loss: ', results[0])\n",
        "print('accuracy: ', results[1])"
      ]
    }
  ],
  "metadata": {
    "kernelspec": {
      "display_name": "Python 3",
      "language": "python",
      "name": "python3"
    },
    "language_info": {
      "codemirror_mode": {
        "name": "ipython",
        "version": 3
      },
      "file_extension": ".py",
      "mimetype": "text/x-python",
      "name": "python",
      "nbconvert_exporter": "python",
      "pygments_lexer": "ipython3",
      "version": "3.7.3"
    },
    "colab": {
      "name": "task2_Multilayer_Perceptron_with_Keras.ipynb",
      "provenance": [],
      "collapsed_sections": []
    }
  },
  "nbformat": 4,
  "nbformat_minor": 0
}