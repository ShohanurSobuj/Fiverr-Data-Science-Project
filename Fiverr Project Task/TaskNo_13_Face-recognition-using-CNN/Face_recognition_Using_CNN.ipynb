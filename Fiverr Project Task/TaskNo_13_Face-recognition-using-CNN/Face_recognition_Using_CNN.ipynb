{
  "cells": [
    {
      "cell_type": "markdown",
      "metadata": {
        "id": "jeJGOT-1tLxM"
      },
      "source": [
        "# Face Recognition using CNN"
      ]
    },
    {
      "cell_type": "markdown",
      "metadata": {
        "id": "s1ugnPg6tLxS"
      },
      "source": [
        " # Step1:\n",
        " \n",
        "At the first, you should input the required libraries:"
      ]
    },
    {
      "cell_type": "code",
      "execution_count": null,
      "metadata": {
        "id": "GyFD9ihptLxT"
      },
      "outputs": [],
      "source": [
        "#importing the libraries \n",
        "import keras\n",
        "from keras.models import Sequential\n",
        "from keras.layers import Conv2D, MaxPooling2D, Dense, Flatten, Dropout\n",
        "from tensorflow.keras.optimizers import Adam\n",
        "from keras.callbacks import TensorBoard\n",
        "\n",
        "# Libraries to help with reading and manipulating data\n",
        "import pandas as pd\n",
        "import numpy as np\n",
        "\n",
        "# Library to suppress warnings or deprecation notes \n",
        "import warnings\n",
        "warnings.filterwarnings('ignore')\n",
        "\n",
        "# Libraries to help with data visualization\n",
        "import matplotlib.pyplot as plt\n",
        "\n",
        "from sklearn.model_selection import train_test_split\n",
        "from sklearn.metrics import confusion_matrix\n",
        "from sklearn.metrics import classification_report\n",
        "from sklearn.metrics import roc_curve, auc\n",
        "from sklearn.metrics import accuracy_score\n",
        "from keras.utils import np_utils\n",
        "import itertools"
      ]
    },
    {
      "cell_type": "markdown",
      "metadata": {
        "id": "k3Qm24JNtLxX"
      },
      "source": [
        "# Step2:\n",
        "\n",
        "* Load Dataset :\n",
        "\n",
        "After loading the Dataset you have to normalize every image.\n",
        "\n",
        "Note: an image is a Uint8 matrix of pixels and for calculation, you need to convert the format of the image to float or double"
      ]
    },
    {
      "cell_type": "code",
      "execution_count": null,
      "metadata": {
        "colab": {
          "base_uri": "https://localhost:8080/"
        },
        "id": "2XX16EBFtLxY",
        "outputId": "a75e945c-7565-4bf7-9102-fef5877a5587"
      },
      "outputs": [
        {
          "output_type": "stream",
          "name": "stdout",
          "text": [
            "x_train : [[0.1882353  0.19215687 0.1764706  ... 0.18431373 0.18039216 0.18039216]\n",
            " [0.23529412 0.23529412 0.24313726 ... 0.1254902  0.13333334 0.13333334]\n",
            " [0.15294118 0.17254902 0.20784314 ... 0.11372549 0.10196079 0.11372549]\n",
            " ...\n",
            " [0.44705883 0.45882353 0.44705883 ... 0.38431373 0.3764706  0.38431373]\n",
            " [0.4117647  0.4117647  0.41960785 ... 0.21176471 0.18431373 0.16078432]\n",
            " [0.45490196 0.44705883 0.45882353 ... 0.37254903 0.39215687 0.39607844]]\n",
            "Y-train shape: [ 0  0  0  0  0  0  0  0  0  0  0  0  1  1  1  1  1  1  1  1  1  1  1  1\n",
            "  2  2  2  2  2  2  2  2  2  2  2  2  3  3  3  3  3  3  3  3  3  3  3  3\n",
            "  4  4  4  4  4  4  4  4  4  4  4  4  5  5  5  5  5  5  5  5  5  5  5  5\n",
            "  6  6  6  6  6  6  6  6  6  6  6  6  7  7  7  7  7  7  7  7  7  7  7  7\n",
            "  8  8  8  8  8  8  8  8  8  8  8  8  9  9  9  9  9  9  9  9  9  9  9  9\n",
            " 10 10 10 10 10 10 10 10 10 10 10 10 11 11 11 11 11 11 11 11 11 11 11 11\n",
            " 12 12 12 12 12 12 12 12 12 12 12 12 13 13 13 13 13 13 13 13 13 13 13 13\n",
            " 14 14 14 14 14 14 14 14 14 14 14 14 15 15 15 15 15 15 15 15 15 15 15 15\n",
            " 16 16 16 16 16 16 16 16 16 16 16 16 17 17 17 17 17 17 17 17 17 17 17 17\n",
            " 18 18 18 18 18 18 18 18 18 18 18 18 19 19 19 19 19 19 19 19 19 19 19 19]\n",
            "x_test shape: (160, 10304)\n"
          ]
        }
      ],
      "source": [
        "#load dataset\n",
        "data = np.load('ORL_faces.npz') \n",
        "\n",
        "# load the \"Train Images\"\n",
        "x_train = data['trainX']\n",
        "#normalize every image\n",
        "x_train = np.array(x_train,dtype='float32')/255\n",
        "\n",
        "x_test = data['testX']\n",
        "x_test = np.array(x_test,dtype='float32')/255\n",
        "\n",
        "# load the Label of Images\n",
        "y_train= data['trainY']\n",
        "y_test= data['testY']\n",
        "\n",
        "# show the train and test Data format\n",
        "print('x_train : {}'.format(x_train[:]))\n",
        "print('Y-train shape: {}'.format(y_train))\n",
        "print('x_test shape: {}'.format(x_test.shape))"
      ]
    },
    {
      "cell_type": "markdown",
      "metadata": {
        "id": "bEYyLX16tLxb"
      },
      "source": [
        "# Step 3\n",
        "\n",
        "Split DataSet : Validation data and Train \n",
        "\n",
        "Validation DataSet: this data set is used to minimize overfitting.If the accuracy over the training data set increases, but the accuracy over then validation data set stays the same or decreases, then you're overfitting your neural network and you should stop training.\n",
        "\n",
        " * Note: we usually use 30 percent of every dataset as the validation data but Here we only used 5 percent because the number of images in this dataset is very low. \n",
        "\n"
      ]
    },
    {
      "cell_type": "code",
      "execution_count": null,
      "metadata": {
        "id": "k7B_2i7DtLxc"
      },
      "outputs": [],
      "source": [
        "#dataset split. test size is 5% because the number of images in this dataset is very low\n",
        "x_train, x_valid, y_train, y_valid= train_test_split(\n",
        "    x_train, y_train, test_size=.05, random_state=1234,)"
      ]
    },
    {
      "cell_type": "markdown",
      "metadata": {
        "id": "cQQ68m6dtLxd"
      },
      "source": [
        "# Step 4\n",
        "\n",
        "for using the CNN, we need to change The size of images ( The size of images must be the same)"
      ]
    },
    {
      "cell_type": "code",
      "execution_count": null,
      "metadata": {
        "colab": {
          "base_uri": "https://localhost:8080/"
        },
        "id": "FJf2MfMwtLxe",
        "outputId": "d381abfc-2623-4684-9650-4efcc2a994e4"
      },
      "outputs": [
        {
          "output_type": "stream",
          "name": "stdout",
          "text": [
            "x_train shape: 228\n",
            "x_test shape: (160,)\n"
          ]
        }
      ],
      "source": [
        "im_rows=112  #number of row\n",
        "im_cols=92   # number of columns\n",
        "batch_size=512 #batch size\n",
        "im_shape=(im_rows, im_cols, 1)\n",
        "\n",
        "#change the size of images using reshape\n",
        "x_train = x_train.reshape(x_train.shape[0], *im_shape)\n",
        "x_test = x_test.reshape(x_test.shape[0], *im_shape)\n",
        "x_valid = x_valid.reshape(x_valid.shape[0], *im_shape)\n",
        "\n",
        "print('x_train shape: {}'.format(y_train.shape[0]))\n",
        "print('x_test shape: {}'.format(y_test.shape)) # printing the shape of test set"
      ]
    },
    {
      "cell_type": "markdown",
      "metadata": {
        "id": "21jpuBA1tLxf"
      },
      "source": [
        "# Step 5\n",
        "\n",
        "\n",
        "Build CNN model:\n",
        " CNN have 3 main layer: \n",
        " * 1-Convolotional layer \n",
        " * 2- pooling layer  \n",
        " * 3- fully connected layer\n",
        " \n",
        " we could build a new architecture of CNN by changing the number and position of layers.\n",
        " "
      ]
    },
    {
      "cell_type": "code",
      "execution_count": null,
      "metadata": {
        "colab": {
          "base_uri": "https://localhost:8080/"
        },
        "id": "7uDVz2abtLxg",
        "outputId": "46f82cae-6f01-418b-ab1d-b7f0d50d4949"
      },
      "outputs": [
        {
          "output_type": "stream",
          "name": "stderr",
          "text": [
            "/usr/local/lib/python3.7/dist-packages/keras/optimizer_v2/adam.py:105: UserWarning: The `lr` argument is deprecated, use `learning_rate` instead.\n",
            "  super(Adam, self).__init__(name, **kwargs)\n"
          ]
        }
      ],
      "source": [
        "\n",
        "#filters= the depth of output image or kernels\n",
        "\n",
        "cnn_model= Sequential([\n",
        "    Conv2D(filters=36, kernel_size=7, activation='relu', input_shape= im_shape), #first conv2D layer with 36 filters  with kernel size = 7\n",
        "    MaxPooling2D(pool_size=2), #first max pooling layer with pool size of 2\n",
        "    Conv2D(filters=54, kernel_size=5, activation='relu', input_shape= im_shape), #second conv2D layer with 54 filters with kernel size = 5\n",
        "    MaxPooling2D(pool_size=2), #second max pooling layer with pool size of 2\n",
        "    Flatten(), #Flattening is converting the data into a 1-dimensional array for inputting it to the next layer\n",
        "    Dense(2024, activation='relu'), #Dense Layer is simple layer of neurons in which each neuron receives input from all the neurons of previous layer,\n",
        "     Dropout(0.5), #Dropout layer is a mask that nullifies the contribution of some neurons towards the next layer and leaves unmodified all others.\n",
        "    Dense(1024, activation='relu'),\n",
        "    Dropout(0.5), #Dropout layer is a mask that nullifies the contribution of some neurons towards the next layer and leaves unmodified all others.\n",
        "    Dense(512, activation='relu'),\n",
        "    Dropout(0.5), #Dropout layer is a mask that nullifies the contribution of some neurons towards the next layer and leaves unmodified all others.\n",
        "    #20 is the number of outputs and activation function used here is 'softmax' which converts the output of the last layer in your neural network into what is essentially a probability distribution.\n",
        "    Dense(20, activation='softmax')  \n",
        "])\n",
        "#compiling the model with sparse_categorical loss with adam optimizer where the learning rate = 0.0001\n",
        "cnn_model.compile(\n",
        "    loss='sparse_categorical_crossentropy',#'categorical_crossentropy',\n",
        "    optimizer=Adam(lr=0.0001),\n",
        "    metrics=['accuracy']\n",
        ")"
      ]
    },
    {
      "cell_type": "markdown",
      "metadata": {
        "id": "tpULPPkUtLxi"
      },
      "source": [
        "Show the model's parameters."
      ]
    },
    {
      "cell_type": "code",
      "execution_count": null,
      "metadata": {
        "colab": {
          "base_uri": "https://localhost:8080/"
        },
        "id": "CxM0yaZMtLxi",
        "outputId": "7a326913-5cac-4bca-b3ff-866c7af22e9b"
      },
      "outputs": [
        {
          "output_type": "stream",
          "name": "stdout",
          "text": [
            "Model: \"sequential\"\n",
            "_________________________________________________________________\n",
            " Layer (type)                Output Shape              Param #   \n",
            "=================================================================\n",
            " conv2d (Conv2D)             (None, 106, 86, 36)       1800      \n",
            "                                                                 \n",
            " max_pooling2d (MaxPooling2D  (None, 53, 43, 36)       0         \n",
            " )                                                               \n",
            "                                                                 \n",
            " conv2d_1 (Conv2D)           (None, 49, 39, 54)        48654     \n",
            "                                                                 \n",
            " max_pooling2d_1 (MaxPooling  (None, 24, 19, 54)       0         \n",
            " 2D)                                                             \n",
            "                                                                 \n",
            " flatten (Flatten)           (None, 24624)             0         \n",
            "                                                                 \n",
            " dense (Dense)               (None, 2024)              49841000  \n",
            "                                                                 \n",
            " dropout (Dropout)           (None, 2024)              0         \n",
            "                                                                 \n",
            " dense_1 (Dense)             (None, 1024)              2073600   \n",
            "                                                                 \n",
            " dropout_1 (Dropout)         (None, 1024)              0         \n",
            "                                                                 \n",
            " dense_2 (Dense)             (None, 512)               524800    \n",
            "                                                                 \n",
            " dropout_2 (Dropout)         (None, 512)               0         \n",
            "                                                                 \n",
            " dense_3 (Dense)             (None, 20)                10260     \n",
            "                                                                 \n",
            "=================================================================\n",
            "Total params: 52,500,114\n",
            "Trainable params: 52,500,114\n",
            "Non-trainable params: 0\n",
            "_________________________________________________________________\n"
          ]
        }
      ],
      "source": [
        "cnn_model.summary() #summary of the model "
      ]
    },
    {
      "cell_type": "markdown",
      "metadata": {
        "id": "tQjxBSJMtLxj"
      },
      "source": [
        "\n",
        "# Step 6\n",
        "\n",
        "Train the Model\n",
        "\n",
        "* Note: You can change the number of epochs\n"
      ]
    },
    {
      "cell_type": "code",
      "execution_count": null,
      "metadata": {
        "colab": {
          "base_uri": "https://localhost:8080/"
        },
        "id": "EMSK4UDDtLxj",
        "outputId": "8d5b4cd1-12f5-40b3-b96a-cc07504a8a2d"
      },
      "outputs": [
        {
          "output_type": "stream",
          "name": "stdout",
          "text": [
            "Epoch 1/250\n",
            "1/1 - 11s - loss: 3.0103 - accuracy: 0.0526 - val_loss: 2.9911 - val_accuracy: 0.0833 - 11s/epoch - 11s/step\n",
            "Epoch 2/250\n",
            "1/1 - 0s - loss: 3.0163 - accuracy: 0.0307 - val_loss: 2.9828 - val_accuracy: 0.0833 - 213ms/epoch - 213ms/step\n",
            "Epoch 3/250\n",
            "1/1 - 0s - loss: 3.0065 - accuracy: 0.0570 - val_loss: 2.9715 - val_accuracy: 0.0833 - 203ms/epoch - 203ms/step\n",
            "Epoch 4/250\n",
            "1/1 - 0s - loss: 3.0543 - accuracy: 0.0482 - val_loss: 2.9676 - val_accuracy: 0.0833 - 205ms/epoch - 205ms/step\n",
            "Epoch 5/250\n",
            "1/1 - 0s - loss: 3.0050 - accuracy: 0.0526 - val_loss: 2.9651 - val_accuracy: 0.0833 - 220ms/epoch - 220ms/step\n",
            "Epoch 6/250\n",
            "1/1 - 0s - loss: 3.0366 - accuracy: 0.0702 - val_loss: 2.9651 - val_accuracy: 0.1667 - 210ms/epoch - 210ms/step\n",
            "Epoch 7/250\n",
            "1/1 - 0s - loss: 2.9933 - accuracy: 0.0482 - val_loss: 2.9650 - val_accuracy: 0.0833 - 205ms/epoch - 205ms/step\n",
            "Epoch 8/250\n",
            "1/1 - 0s - loss: 3.0147 - accuracy: 0.0482 - val_loss: 2.9650 - val_accuracy: 0.0833 - 202ms/epoch - 202ms/step\n",
            "Epoch 9/250\n",
            "1/1 - 0s - loss: 3.0186 - accuracy: 0.0658 - val_loss: 2.9679 - val_accuracy: 0.0833 - 220ms/epoch - 220ms/step\n",
            "Epoch 10/250\n",
            "1/1 - 0s - loss: 3.0027 - accuracy: 0.0614 - val_loss: 2.9703 - val_accuracy: 0.0833 - 217ms/epoch - 217ms/step\n",
            "Epoch 11/250\n",
            "1/1 - 0s - loss: 2.9751 - accuracy: 0.0658 - val_loss: 2.9715 - val_accuracy: 0.1667 - 206ms/epoch - 206ms/step\n",
            "Epoch 12/250\n",
            "1/1 - 0s - loss: 2.9896 - accuracy: 0.0614 - val_loss: 2.9738 - val_accuracy: 0.1667 - 206ms/epoch - 206ms/step\n",
            "Epoch 13/250\n",
            "1/1 - 0s - loss: 2.9872 - accuracy: 0.0526 - val_loss: 2.9730 - val_accuracy: 0.0833 - 212ms/epoch - 212ms/step\n",
            "Epoch 14/250\n",
            "1/1 - 0s - loss: 2.9638 - accuracy: 0.0833 - val_loss: 2.9716 - val_accuracy: 0.0833 - 207ms/epoch - 207ms/step\n",
            "Epoch 15/250\n",
            "1/1 - 0s - loss: 2.9716 - accuracy: 0.0877 - val_loss: 2.9713 - val_accuracy: 0.0833 - 206ms/epoch - 206ms/step\n",
            "Epoch 16/250\n",
            "1/1 - 0s - loss: 2.9524 - accuracy: 0.0789 - val_loss: 2.9694 - val_accuracy: 0.0833 - 210ms/epoch - 210ms/step\n",
            "Epoch 17/250\n",
            "1/1 - 0s - loss: 2.9580 - accuracy: 0.0833 - val_loss: 2.9669 - val_accuracy: 0.0833 - 206ms/epoch - 206ms/step\n",
            "Epoch 18/250\n",
            "1/1 - 0s - loss: 2.9630 - accuracy: 0.0921 - val_loss: 2.9640 - val_accuracy: 0.0833 - 204ms/epoch - 204ms/step\n",
            "Epoch 19/250\n",
            "1/1 - 0s - loss: 2.9472 - accuracy: 0.1009 - val_loss: 2.9615 - val_accuracy: 0.0833 - 210ms/epoch - 210ms/step\n",
            "Epoch 20/250\n",
            "1/1 - 0s - loss: 2.9539 - accuracy: 0.1009 - val_loss: 2.9582 - val_accuracy: 0.0833 - 211ms/epoch - 211ms/step\n",
            "Epoch 21/250\n",
            "1/1 - 0s - loss: 2.9490 - accuracy: 0.1053 - val_loss: 2.9535 - val_accuracy: 0.0833 - 204ms/epoch - 204ms/step\n",
            "Epoch 22/250\n",
            "1/1 - 0s - loss: 2.9348 - accuracy: 0.1053 - val_loss: 2.9499 - val_accuracy: 0.0833 - 205ms/epoch - 205ms/step\n",
            "Epoch 23/250\n",
            "1/1 - 0s - loss: 2.9324 - accuracy: 0.0877 - val_loss: 2.9450 - val_accuracy: 0.0833 - 209ms/epoch - 209ms/step\n",
            "Epoch 24/250\n",
            "1/1 - 0s - loss: 2.9315 - accuracy: 0.1009 - val_loss: 2.9401 - val_accuracy: 0.0833 - 209ms/epoch - 209ms/step\n",
            "Epoch 25/250\n",
            "1/1 - 0s - loss: 2.9305 - accuracy: 0.1360 - val_loss: 2.9349 - val_accuracy: 0.0833 - 205ms/epoch - 205ms/step\n",
            "Epoch 26/250\n",
            "1/1 - 0s - loss: 2.9208 - accuracy: 0.1228 - val_loss: 2.9288 - val_accuracy: 0.0000e+00 - 218ms/epoch - 218ms/step\n",
            "Epoch 27/250\n",
            "1/1 - 0s - loss: 2.9160 - accuracy: 0.1272 - val_loss: 2.9216 - val_accuracy: 0.0000e+00 - 208ms/epoch - 208ms/step\n",
            "Epoch 28/250\n",
            "1/1 - 0s - loss: 2.8957 - accuracy: 0.1754 - val_loss: 2.9130 - val_accuracy: 0.0000e+00 - 208ms/epoch - 208ms/step\n",
            "Epoch 29/250\n",
            "1/1 - 0s - loss: 2.8763 - accuracy: 0.1623 - val_loss: 2.9047 - val_accuracy: 0.0000e+00 - 206ms/epoch - 206ms/step\n",
            "Epoch 30/250\n",
            "1/1 - 0s - loss: 2.8627 - accuracy: 0.1667 - val_loss: 2.8960 - val_accuracy: 0.0000e+00 - 210ms/epoch - 210ms/step\n",
            "Epoch 31/250\n",
            "1/1 - 0s - loss: 2.8865 - accuracy: 0.1447 - val_loss: 2.8891 - val_accuracy: 0.0833 - 212ms/epoch - 212ms/step\n",
            "Epoch 32/250\n",
            "1/1 - 0s - loss: 2.8467 - accuracy: 0.1754 - val_loss: 2.8789 - val_accuracy: 0.0833 - 201ms/epoch - 201ms/step\n",
            "Epoch 33/250\n",
            "1/1 - 0s - loss: 2.8268 - accuracy: 0.2018 - val_loss: 2.8661 - val_accuracy: 0.0833 - 218ms/epoch - 218ms/step\n",
            "Epoch 34/250\n",
            "1/1 - 0s - loss: 2.8310 - accuracy: 0.1842 - val_loss: 2.8478 - val_accuracy: 0.1667 - 209ms/epoch - 209ms/step\n",
            "Epoch 35/250\n",
            "1/1 - 0s - loss: 2.8444 - accuracy: 0.1360 - val_loss: 2.8252 - val_accuracy: 0.1667 - 213ms/epoch - 213ms/step\n",
            "Epoch 36/250\n",
            "1/1 - 0s - loss: 2.7854 - accuracy: 0.1754 - val_loss: 2.8012 - val_accuracy: 0.3333 - 209ms/epoch - 209ms/step\n",
            "Epoch 37/250\n",
            "1/1 - 0s - loss: 2.7654 - accuracy: 0.2105 - val_loss: 2.7751 - val_accuracy: 0.4167 - 213ms/epoch - 213ms/step\n",
            "Epoch 38/250\n",
            "1/1 - 0s - loss: 2.7391 - accuracy: 0.2412 - val_loss: 2.7471 - val_accuracy: 0.4167 - 202ms/epoch - 202ms/step\n",
            "Epoch 39/250\n",
            "1/1 - 0s - loss: 2.7444 - accuracy: 0.1930 - val_loss: 2.7115 - val_accuracy: 0.4167 - 203ms/epoch - 203ms/step\n",
            "Epoch 40/250\n",
            "1/1 - 0s - loss: 2.7168 - accuracy: 0.2544 - val_loss: 2.6743 - val_accuracy: 0.4167 - 208ms/epoch - 208ms/step\n",
            "Epoch 41/250\n",
            "1/1 - 0s - loss: 2.6866 - accuracy: 0.2281 - val_loss: 2.6397 - val_accuracy: 0.4167 - 219ms/epoch - 219ms/step\n",
            "Epoch 42/250\n",
            "1/1 - 0s - loss: 2.6605 - accuracy: 0.2675 - val_loss: 2.6032 - val_accuracy: 0.4167 - 208ms/epoch - 208ms/step\n",
            "Epoch 43/250\n",
            "1/1 - 0s - loss: 2.6306 - accuracy: 0.2412 - val_loss: 2.5594 - val_accuracy: 0.4167 - 210ms/epoch - 210ms/step\n",
            "Epoch 44/250\n",
            "1/1 - 0s - loss: 2.5966 - accuracy: 0.2456 - val_loss: 2.5201 - val_accuracy: 0.4167 - 219ms/epoch - 219ms/step\n",
            "Epoch 45/250\n",
            "1/1 - 0s - loss: 2.5961 - accuracy: 0.2500 - val_loss: 2.4783 - val_accuracy: 0.4167 - 217ms/epoch - 217ms/step\n",
            "Epoch 46/250\n",
            "1/1 - 0s - loss: 2.5137 - accuracy: 0.2719 - val_loss: 2.4328 - val_accuracy: 0.4167 - 209ms/epoch - 209ms/step\n",
            "Epoch 47/250\n",
            "1/1 - 0s - loss: 2.4673 - accuracy: 0.3421 - val_loss: 2.3822 - val_accuracy: 0.4167 - 210ms/epoch - 210ms/step\n",
            "Epoch 48/250\n",
            "1/1 - 0s - loss: 2.4044 - accuracy: 0.3377 - val_loss: 2.3227 - val_accuracy: 0.4167 - 219ms/epoch - 219ms/step\n",
            "Epoch 49/250\n",
            "1/1 - 0s - loss: 2.4291 - accuracy: 0.3202 - val_loss: 2.2674 - val_accuracy: 0.4167 - 211ms/epoch - 211ms/step\n",
            "Epoch 50/250\n",
            "1/1 - 0s - loss: 2.3850 - accuracy: 0.3289 - val_loss: 2.2154 - val_accuracy: 0.4167 - 212ms/epoch - 212ms/step\n",
            "Epoch 51/250\n",
            "1/1 - 0s - loss: 2.3453 - accuracy: 0.3553 - val_loss: 2.1716 - val_accuracy: 0.4167 - 208ms/epoch - 208ms/step\n",
            "Epoch 52/250\n",
            "1/1 - 0s - loss: 2.3206 - accuracy: 0.3596 - val_loss: 2.1277 - val_accuracy: 0.5000 - 207ms/epoch - 207ms/step\n",
            "Epoch 53/250\n",
            "1/1 - 0s - loss: 2.1986 - accuracy: 0.3553 - val_loss: 2.0697 - val_accuracy: 0.5000 - 212ms/epoch - 212ms/step\n",
            "Epoch 54/250\n",
            "1/1 - 0s - loss: 2.1930 - accuracy: 0.3904 - val_loss: 2.0038 - val_accuracy: 0.5833 - 211ms/epoch - 211ms/step\n",
            "Epoch 55/250\n",
            "1/1 - 0s - loss: 2.1463 - accuracy: 0.4079 - val_loss: 1.9393 - val_accuracy: 0.5833 - 207ms/epoch - 207ms/step\n",
            "Epoch 56/250\n",
            "1/1 - 0s - loss: 2.0481 - accuracy: 0.4167 - val_loss: 1.8725 - val_accuracy: 0.5833 - 213ms/epoch - 213ms/step\n",
            "Epoch 57/250\n",
            "1/1 - 0s - loss: 2.0149 - accuracy: 0.3991 - val_loss: 1.8000 - val_accuracy: 0.5833 - 216ms/epoch - 216ms/step\n",
            "Epoch 58/250\n",
            "1/1 - 0s - loss: 2.0036 - accuracy: 0.4123 - val_loss: 1.7312 - val_accuracy: 0.5833 - 213ms/epoch - 213ms/step\n",
            "Epoch 59/250\n",
            "1/1 - 0s - loss: 1.9129 - accuracy: 0.4649 - val_loss: 1.6648 - val_accuracy: 0.5833 - 225ms/epoch - 225ms/step\n",
            "Epoch 60/250\n",
            "1/1 - 0s - loss: 1.7820 - accuracy: 0.4781 - val_loss: 1.5953 - val_accuracy: 0.5833 - 212ms/epoch - 212ms/step\n",
            "Epoch 61/250\n",
            "1/1 - 0s - loss: 1.8689 - accuracy: 0.4342 - val_loss: 1.5317 - val_accuracy: 0.6667 - 208ms/epoch - 208ms/step\n",
            "Epoch 62/250\n",
            "1/1 - 0s - loss: 1.8145 - accuracy: 0.4781 - val_loss: 1.4628 - val_accuracy: 0.6667 - 215ms/epoch - 215ms/step\n",
            "Epoch 63/250\n",
            "1/1 - 0s - loss: 1.7225 - accuracy: 0.4693 - val_loss: 1.3944 - val_accuracy: 0.7500 - 212ms/epoch - 212ms/step\n",
            "Epoch 64/250\n",
            "1/1 - 0s - loss: 1.7005 - accuracy: 0.5219 - val_loss: 1.3409 - val_accuracy: 0.6667 - 211ms/epoch - 211ms/step\n",
            "Epoch 65/250\n",
            "1/1 - 0s - loss: 1.5278 - accuracy: 0.5614 - val_loss: 1.2784 - val_accuracy: 0.6667 - 209ms/epoch - 209ms/step\n",
            "Epoch 66/250\n",
            "1/1 - 0s - loss: 1.5646 - accuracy: 0.5395 - val_loss: 1.2035 - val_accuracy: 0.7500 - 213ms/epoch - 213ms/step\n",
            "Epoch 67/250\n",
            "1/1 - 0s - loss: 1.4687 - accuracy: 0.5702 - val_loss: 1.1240 - val_accuracy: 0.7500 - 208ms/epoch - 208ms/step\n",
            "Epoch 68/250\n",
            "1/1 - 0s - loss: 1.4874 - accuracy: 0.5877 - val_loss: 1.0640 - val_accuracy: 0.8333 - 210ms/epoch - 210ms/step\n",
            "Epoch 69/250\n",
            "1/1 - 0s - loss: 1.3346 - accuracy: 0.6096 - val_loss: 1.0075 - val_accuracy: 0.8333 - 214ms/epoch - 214ms/step\n",
            "Epoch 70/250\n",
            "1/1 - 0s - loss: 1.3214 - accuracy: 0.6228 - val_loss: 0.9579 - val_accuracy: 0.9167 - 213ms/epoch - 213ms/step\n",
            "Epoch 71/250\n",
            "1/1 - 0s - loss: 1.2092 - accuracy: 0.6974 - val_loss: 0.8898 - val_accuracy: 0.9167 - 205ms/epoch - 205ms/step\n",
            "Epoch 72/250\n",
            "1/1 - 0s - loss: 1.2555 - accuracy: 0.6316 - val_loss: 0.8185 - val_accuracy: 0.9167 - 204ms/epoch - 204ms/step\n",
            "Epoch 73/250\n",
            "1/1 - 0s - loss: 1.0929 - accuracy: 0.6974 - val_loss: 0.7613 - val_accuracy: 1.0000 - 221ms/epoch - 221ms/step\n",
            "Epoch 74/250\n",
            "1/1 - 0s - loss: 1.1362 - accuracy: 0.6316 - val_loss: 0.7182 - val_accuracy: 1.0000 - 209ms/epoch - 209ms/step\n",
            "Epoch 75/250\n",
            "1/1 - 0s - loss: 1.0998 - accuracy: 0.6447 - val_loss: 0.6859 - val_accuracy: 0.9167 - 211ms/epoch - 211ms/step\n",
            "Epoch 76/250\n",
            "1/1 - 0s - loss: 1.1074 - accuracy: 0.6316 - val_loss: 0.6816 - val_accuracy: 0.9167 - 213ms/epoch - 213ms/step\n",
            "Epoch 77/250\n",
            "1/1 - 0s - loss: 1.0311 - accuracy: 0.6930 - val_loss: 0.6264 - val_accuracy: 0.9167 - 210ms/epoch - 210ms/step\n",
            "Epoch 78/250\n",
            "1/1 - 0s - loss: 0.9261 - accuracy: 0.7368 - val_loss: 0.5716 - val_accuracy: 1.0000 - 204ms/epoch - 204ms/step\n",
            "Epoch 79/250\n",
            "1/1 - 0s - loss: 0.9671 - accuracy: 0.7368 - val_loss: 0.5422 - val_accuracy: 1.0000 - 219ms/epoch - 219ms/step\n",
            "Epoch 80/250\n",
            "1/1 - 0s - loss: 0.7877 - accuracy: 0.7675 - val_loss: 0.5123 - val_accuracy: 1.0000 - 212ms/epoch - 212ms/step\n",
            "Epoch 81/250\n",
            "1/1 - 0s - loss: 0.8140 - accuracy: 0.7763 - val_loss: 0.4944 - val_accuracy: 0.9167 - 210ms/epoch - 210ms/step\n",
            "Epoch 82/250\n",
            "1/1 - 0s - loss: 0.7707 - accuracy: 0.7763 - val_loss: 0.4726 - val_accuracy: 0.9167 - 213ms/epoch - 213ms/step\n",
            "Epoch 83/250\n",
            "1/1 - 0s - loss: 0.7672 - accuracy: 0.7632 - val_loss: 0.4097 - val_accuracy: 1.0000 - 216ms/epoch - 216ms/step\n",
            "Epoch 84/250\n",
            "1/1 - 0s - loss: 0.7389 - accuracy: 0.7807 - val_loss: 0.3531 - val_accuracy: 1.0000 - 209ms/epoch - 209ms/step\n",
            "Epoch 85/250\n",
            "1/1 - 0s - loss: 0.7287 - accuracy: 0.7939 - val_loss: 0.3173 - val_accuracy: 1.0000 - 208ms/epoch - 208ms/step\n",
            "Epoch 86/250\n",
            "1/1 - 0s - loss: 0.7507 - accuracy: 0.7500 - val_loss: 0.2921 - val_accuracy: 1.0000 - 212ms/epoch - 212ms/step\n",
            "Epoch 87/250\n",
            "1/1 - 0s - loss: 0.7101 - accuracy: 0.7851 - val_loss: 0.3005 - val_accuracy: 1.0000 - 219ms/epoch - 219ms/step\n",
            "Epoch 88/250\n",
            "1/1 - 0s - loss: 0.7162 - accuracy: 0.7895 - val_loss: 0.2715 - val_accuracy: 1.0000 - 205ms/epoch - 205ms/step\n",
            "Epoch 89/250\n",
            "1/1 - 0s - loss: 0.6805 - accuracy: 0.7851 - val_loss: 0.2237 - val_accuracy: 1.0000 - 210ms/epoch - 210ms/step\n",
            "Epoch 90/250\n",
            "1/1 - 0s - loss: 0.6504 - accuracy: 0.8158 - val_loss: 0.2154 - val_accuracy: 1.0000 - 212ms/epoch - 212ms/step\n",
            "Epoch 91/250\n",
            "1/1 - 0s - loss: 0.5767 - accuracy: 0.8289 - val_loss: 0.2404 - val_accuracy: 1.0000 - 212ms/epoch - 212ms/step\n",
            "Epoch 92/250\n",
            "1/1 - 0s - loss: 0.5140 - accuracy: 0.8728 - val_loss: 0.2422 - val_accuracy: 1.0000 - 212ms/epoch - 212ms/step\n",
            "Epoch 93/250\n",
            "1/1 - 0s - loss: 0.5179 - accuracy: 0.8596 - val_loss: 0.2165 - val_accuracy: 1.0000 - 217ms/epoch - 217ms/step\n",
            "Epoch 94/250\n",
            "1/1 - 0s - loss: 0.4407 - accuracy: 0.8640 - val_loss: 0.1932 - val_accuracy: 1.0000 - 207ms/epoch - 207ms/step\n",
            "Epoch 95/250\n",
            "1/1 - 0s - loss: 0.4504 - accuracy: 0.8860 - val_loss: 0.1708 - val_accuracy: 1.0000 - 211ms/epoch - 211ms/step\n",
            "Epoch 96/250\n",
            "1/1 - 0s - loss: 0.4960 - accuracy: 0.8728 - val_loss: 0.1495 - val_accuracy: 1.0000 - 214ms/epoch - 214ms/step\n",
            "Epoch 97/250\n",
            "1/1 - 0s - loss: 0.4272 - accuracy: 0.8991 - val_loss: 0.1409 - val_accuracy: 1.0000 - 222ms/epoch - 222ms/step\n",
            "Epoch 98/250\n",
            "1/1 - 0s - loss: 0.4081 - accuracy: 0.8860 - val_loss: 0.1382 - val_accuracy: 1.0000 - 209ms/epoch - 209ms/step\n",
            "Epoch 99/250\n",
            "1/1 - 0s - loss: 0.3495 - accuracy: 0.8860 - val_loss: 0.1304 - val_accuracy: 1.0000 - 216ms/epoch - 216ms/step\n",
            "Epoch 100/250\n",
            "1/1 - 0s - loss: 0.4380 - accuracy: 0.8728 - val_loss: 0.1008 - val_accuracy: 1.0000 - 209ms/epoch - 209ms/step\n",
            "Epoch 101/250\n",
            "1/1 - 0s - loss: 0.3971 - accuracy: 0.8904 - val_loss: 0.0827 - val_accuracy: 1.0000 - 212ms/epoch - 212ms/step\n",
            "Epoch 102/250\n",
            "1/1 - 0s - loss: 0.3155 - accuracy: 0.9298 - val_loss: 0.0829 - val_accuracy: 1.0000 - 218ms/epoch - 218ms/step\n",
            "Epoch 103/250\n",
            "1/1 - 0s - loss: 0.3585 - accuracy: 0.9035 - val_loss: 0.0926 - val_accuracy: 1.0000 - 209ms/epoch - 209ms/step\n",
            "Epoch 104/250\n",
            "1/1 - 0s - loss: 0.2847 - accuracy: 0.9167 - val_loss: 0.1293 - val_accuracy: 1.0000 - 206ms/epoch - 206ms/step\n",
            "Epoch 105/250\n",
            "1/1 - 0s - loss: 0.3075 - accuracy: 0.9342 - val_loss: 0.1547 - val_accuracy: 1.0000 - 213ms/epoch - 213ms/step\n",
            "Epoch 106/250\n",
            "1/1 - 0s - loss: 0.3006 - accuracy: 0.9079 - val_loss: 0.1215 - val_accuracy: 1.0000 - 214ms/epoch - 214ms/step\n",
            "Epoch 107/250\n",
            "1/1 - 0s - loss: 0.3161 - accuracy: 0.8991 - val_loss: 0.0988 - val_accuracy: 1.0000 - 211ms/epoch - 211ms/step\n",
            "Epoch 108/250\n",
            "1/1 - 0s - loss: 0.2921 - accuracy: 0.9035 - val_loss: 0.0832 - val_accuracy: 1.0000 - 215ms/epoch - 215ms/step\n",
            "Epoch 109/250\n",
            "1/1 - 0s - loss: 0.3205 - accuracy: 0.8991 - val_loss: 0.0726 - val_accuracy: 1.0000 - 213ms/epoch - 213ms/step\n",
            "Epoch 110/250\n",
            "1/1 - 0s - loss: 0.2798 - accuracy: 0.9211 - val_loss: 0.0720 - val_accuracy: 1.0000 - 208ms/epoch - 208ms/step\n",
            "Epoch 111/250\n",
            "1/1 - 0s - loss: 0.2875 - accuracy: 0.9211 - val_loss: 0.0848 - val_accuracy: 1.0000 - 214ms/epoch - 214ms/step\n",
            "Epoch 112/250\n",
            "1/1 - 0s - loss: 0.2785 - accuracy: 0.9167 - val_loss: 0.0819 - val_accuracy: 1.0000 - 216ms/epoch - 216ms/step\n",
            "Epoch 113/250\n",
            "1/1 - 0s - loss: 0.2506 - accuracy: 0.9386 - val_loss: 0.0543 - val_accuracy: 1.0000 - 211ms/epoch - 211ms/step\n",
            "Epoch 114/250\n",
            "1/1 - 0s - loss: 0.1982 - accuracy: 0.9693 - val_loss: 0.0358 - val_accuracy: 1.0000 - 211ms/epoch - 211ms/step\n",
            "Epoch 115/250\n",
            "1/1 - 0s - loss: 0.2201 - accuracy: 0.9342 - val_loss: 0.0311 - val_accuracy: 1.0000 - 216ms/epoch - 216ms/step\n",
            "Epoch 116/250\n",
            "1/1 - 0s - loss: 0.1781 - accuracy: 0.9649 - val_loss: 0.0319 - val_accuracy: 1.0000 - 213ms/epoch - 213ms/step\n",
            "Epoch 117/250\n",
            "1/1 - 0s - loss: 0.1795 - accuracy: 0.9430 - val_loss: 0.0411 - val_accuracy: 1.0000 - 214ms/epoch - 214ms/step\n",
            "Epoch 118/250\n",
            "1/1 - 0s - loss: 0.1786 - accuracy: 0.9474 - val_loss: 0.0600 - val_accuracy: 1.0000 - 218ms/epoch - 218ms/step\n",
            "Epoch 119/250\n",
            "1/1 - 0s - loss: 0.1887 - accuracy: 0.9430 - val_loss: 0.0669 - val_accuracy: 1.0000 - 207ms/epoch - 207ms/step\n",
            "Epoch 120/250\n",
            "1/1 - 0s - loss: 0.2101 - accuracy: 0.9342 - val_loss: 0.0607 - val_accuracy: 1.0000 - 207ms/epoch - 207ms/step\n",
            "Epoch 121/250\n",
            "1/1 - 0s - loss: 0.1978 - accuracy: 0.9518 - val_loss: 0.0432 - val_accuracy: 1.0000 - 210ms/epoch - 210ms/step\n",
            "Epoch 122/250\n",
            "1/1 - 0s - loss: 0.1541 - accuracy: 0.9561 - val_loss: 0.0316 - val_accuracy: 1.0000 - 216ms/epoch - 216ms/step\n",
            "Epoch 123/250\n",
            "1/1 - 0s - loss: 0.1943 - accuracy: 0.9474 - val_loss: 0.0303 - val_accuracy: 1.0000 - 221ms/epoch - 221ms/step\n",
            "Epoch 124/250\n",
            "1/1 - 0s - loss: 0.1724 - accuracy: 0.9561 - val_loss: 0.0317 - val_accuracy: 1.0000 - 215ms/epoch - 215ms/step\n",
            "Epoch 125/250\n",
            "1/1 - 0s - loss: 0.1649 - accuracy: 0.9605 - val_loss: 0.0410 - val_accuracy: 1.0000 - 211ms/epoch - 211ms/step\n",
            "Epoch 126/250\n",
            "1/1 - 0s - loss: 0.1597 - accuracy: 0.9693 - val_loss: 0.0559 - val_accuracy: 1.0000 - 205ms/epoch - 205ms/step\n",
            "Epoch 127/250\n",
            "1/1 - 0s - loss: 0.1633 - accuracy: 0.9518 - val_loss: 0.0469 - val_accuracy: 1.0000 - 222ms/epoch - 222ms/step\n",
            "Epoch 128/250\n",
            "1/1 - 0s - loss: 0.1424 - accuracy: 0.9693 - val_loss: 0.0304 - val_accuracy: 1.0000 - 211ms/epoch - 211ms/step\n",
            "Epoch 129/250\n",
            "1/1 - 0s - loss: 0.1161 - accuracy: 0.9737 - val_loss: 0.0202 - val_accuracy: 1.0000 - 212ms/epoch - 212ms/step\n",
            "Epoch 130/250\n",
            "1/1 - 0s - loss: 0.1302 - accuracy: 0.9737 - val_loss: 0.0169 - val_accuracy: 1.0000 - 212ms/epoch - 212ms/step\n",
            "Epoch 131/250\n",
            "1/1 - 0s - loss: 0.1304 - accuracy: 0.9649 - val_loss: 0.0170 - val_accuracy: 1.0000 - 231ms/epoch - 231ms/step\n",
            "Epoch 132/250\n",
            "1/1 - 0s - loss: 0.1017 - accuracy: 0.9737 - val_loss: 0.0214 - val_accuracy: 1.0000 - 211ms/epoch - 211ms/step\n",
            "Epoch 133/250\n",
            "1/1 - 0s - loss: 0.0818 - accuracy: 0.9825 - val_loss: 0.0273 - val_accuracy: 1.0000 - 214ms/epoch - 214ms/step\n",
            "Epoch 134/250\n",
            "1/1 - 0s - loss: 0.1129 - accuracy: 0.9737 - val_loss: 0.0304 - val_accuracy: 1.0000 - 216ms/epoch - 216ms/step\n",
            "Epoch 135/250\n",
            "1/1 - 0s - loss: 0.1095 - accuracy: 0.9649 - val_loss: 0.0243 - val_accuracy: 1.0000 - 217ms/epoch - 217ms/step\n",
            "Epoch 136/250\n",
            "1/1 - 0s - loss: 0.1095 - accuracy: 0.9737 - val_loss: 0.0156 - val_accuracy: 1.0000 - 212ms/epoch - 212ms/step\n",
            "Epoch 137/250\n",
            "1/1 - 0s - loss: 0.0873 - accuracy: 0.9737 - val_loss: 0.0110 - val_accuracy: 1.0000 - 211ms/epoch - 211ms/step\n",
            "Epoch 138/250\n",
            "1/1 - 0s - loss: 0.1251 - accuracy: 0.9649 - val_loss: 0.0095 - val_accuracy: 1.0000 - 213ms/epoch - 213ms/step\n",
            "Epoch 139/250\n",
            "1/1 - 0s - loss: 0.0761 - accuracy: 0.9825 - val_loss: 0.0093 - val_accuracy: 1.0000 - 214ms/epoch - 214ms/step\n",
            "Epoch 140/250\n",
            "1/1 - 0s - loss: 0.0861 - accuracy: 0.9737 - val_loss: 0.0094 - val_accuracy: 1.0000 - 214ms/epoch - 214ms/step\n",
            "Epoch 141/250\n",
            "1/1 - 0s - loss: 0.1016 - accuracy: 0.9781 - val_loss: 0.0109 - val_accuracy: 1.0000 - 214ms/epoch - 214ms/step\n",
            "Epoch 142/250\n",
            "1/1 - 0s - loss: 0.0926 - accuracy: 0.9868 - val_loss: 0.0131 - val_accuracy: 1.0000 - 211ms/epoch - 211ms/step\n",
            "Epoch 143/250\n",
            "1/1 - 0s - loss: 0.0821 - accuracy: 0.9737 - val_loss: 0.0169 - val_accuracy: 1.0000 - 215ms/epoch - 215ms/step\n",
            "Epoch 144/250\n",
            "1/1 - 0s - loss: 0.0827 - accuracy: 0.9868 - val_loss: 0.0173 - val_accuracy: 1.0000 - 215ms/epoch - 215ms/step\n",
            "Epoch 145/250\n",
            "1/1 - 0s - loss: 0.0833 - accuracy: 0.9737 - val_loss: 0.0175 - val_accuracy: 1.0000 - 212ms/epoch - 212ms/step\n",
            "Epoch 146/250\n",
            "1/1 - 0s - loss: 0.1019 - accuracy: 0.9737 - val_loss: 0.0138 - val_accuracy: 1.0000 - 212ms/epoch - 212ms/step\n",
            "Epoch 147/250\n",
            "1/1 - 0s - loss: 0.0849 - accuracy: 0.9781 - val_loss: 0.0108 - val_accuracy: 1.0000 - 220ms/epoch - 220ms/step\n",
            "Epoch 148/250\n",
            "1/1 - 0s - loss: 0.0867 - accuracy: 0.9868 - val_loss: 0.0110 - val_accuracy: 1.0000 - 216ms/epoch - 216ms/step\n",
            "Epoch 149/250\n",
            "1/1 - 0s - loss: 0.0730 - accuracy: 0.9825 - val_loss: 0.0099 - val_accuracy: 1.0000 - 217ms/epoch - 217ms/step\n",
            "Epoch 150/250\n",
            "1/1 - 0s - loss: 0.0850 - accuracy: 0.9825 - val_loss: 0.0086 - val_accuracy: 1.0000 - 216ms/epoch - 216ms/step\n",
            "Epoch 151/250\n",
            "1/1 - 0s - loss: 0.0850 - accuracy: 0.9781 - val_loss: 0.0075 - val_accuracy: 1.0000 - 213ms/epoch - 213ms/step\n",
            "Epoch 152/250\n",
            "1/1 - 0s - loss: 0.0665 - accuracy: 0.9868 - val_loss: 0.0069 - val_accuracy: 1.0000 - 213ms/epoch - 213ms/step\n",
            "Epoch 153/250\n",
            "1/1 - 0s - loss: 0.0593 - accuracy: 0.9868 - val_loss: 0.0068 - val_accuracy: 1.0000 - 212ms/epoch - 212ms/step\n",
            "Epoch 154/250\n",
            "1/1 - 0s - loss: 0.0741 - accuracy: 0.9912 - val_loss: 0.0061 - val_accuracy: 1.0000 - 207ms/epoch - 207ms/step\n",
            "Epoch 155/250\n",
            "1/1 - 0s - loss: 0.0809 - accuracy: 0.9868 - val_loss: 0.0066 - val_accuracy: 1.0000 - 209ms/epoch - 209ms/step\n",
            "Epoch 156/250\n",
            "1/1 - 0s - loss: 0.0592 - accuracy: 0.9956 - val_loss: 0.0081 - val_accuracy: 1.0000 - 213ms/epoch - 213ms/step\n",
            "Epoch 157/250\n",
            "1/1 - 0s - loss: 0.0613 - accuracy: 0.9825 - val_loss: 0.0100 - val_accuracy: 1.0000 - 216ms/epoch - 216ms/step\n",
            "Epoch 158/250\n",
            "1/1 - 0s - loss: 0.0884 - accuracy: 0.9825 - val_loss: 0.0108 - val_accuracy: 1.0000 - 215ms/epoch - 215ms/step\n",
            "Epoch 159/250\n",
            "1/1 - 0s - loss: 0.0610 - accuracy: 0.9781 - val_loss: 0.0090 - val_accuracy: 1.0000 - 219ms/epoch - 219ms/step\n",
            "Epoch 160/250\n",
            "1/1 - 0s - loss: 0.0824 - accuracy: 0.9781 - val_loss: 0.0063 - val_accuracy: 1.0000 - 216ms/epoch - 216ms/step\n",
            "Epoch 161/250\n",
            "1/1 - 0s - loss: 0.0521 - accuracy: 0.9956 - val_loss: 0.0043 - val_accuracy: 1.0000 - 219ms/epoch - 219ms/step\n",
            "Epoch 162/250\n",
            "1/1 - 0s - loss: 0.0687 - accuracy: 0.9825 - val_loss: 0.0032 - val_accuracy: 1.0000 - 216ms/epoch - 216ms/step\n",
            "Epoch 163/250\n",
            "1/1 - 0s - loss: 0.0480 - accuracy: 0.9868 - val_loss: 0.0028 - val_accuracy: 1.0000 - 210ms/epoch - 210ms/step\n",
            "Epoch 164/250\n",
            "1/1 - 0s - loss: 0.0711 - accuracy: 0.9825 - val_loss: 0.0032 - val_accuracy: 1.0000 - 205ms/epoch - 205ms/step\n",
            "Epoch 165/250\n",
            "1/1 - 0s - loss: 0.0653 - accuracy: 0.9781 - val_loss: 0.0064 - val_accuracy: 1.0000 - 210ms/epoch - 210ms/step\n",
            "Epoch 166/250\n",
            "1/1 - 0s - loss: 0.0622 - accuracy: 0.9868 - val_loss: 0.0114 - val_accuracy: 1.0000 - 224ms/epoch - 224ms/step\n",
            "Epoch 167/250\n",
            "1/1 - 0s - loss: 0.0559 - accuracy: 0.9912 - val_loss: 0.0121 - val_accuracy: 1.0000 - 215ms/epoch - 215ms/step\n",
            "Epoch 168/250\n",
            "1/1 - 0s - loss: 0.0510 - accuracy: 0.9912 - val_loss: 0.0082 - val_accuracy: 1.0000 - 213ms/epoch - 213ms/step\n",
            "Epoch 169/250\n",
            "1/1 - 0s - loss: 0.0735 - accuracy: 0.9825 - val_loss: 0.0050 - val_accuracy: 1.0000 - 212ms/epoch - 212ms/step\n",
            "Epoch 170/250\n",
            "1/1 - 0s - loss: 0.0552 - accuracy: 0.9825 - val_loss: 0.0038 - val_accuracy: 1.0000 - 217ms/epoch - 217ms/step\n",
            "Epoch 171/250\n",
            "1/1 - 0s - loss: 0.0510 - accuracy: 0.9912 - val_loss: 0.0032 - val_accuracy: 1.0000 - 213ms/epoch - 213ms/step\n",
            "Epoch 172/250\n",
            "1/1 - 0s - loss: 0.0401 - accuracy: 0.9956 - val_loss: 0.0028 - val_accuracy: 1.0000 - 211ms/epoch - 211ms/step\n",
            "Epoch 173/250\n",
            "1/1 - 0s - loss: 0.0578 - accuracy: 0.9825 - val_loss: 0.0029 - val_accuracy: 1.0000 - 209ms/epoch - 209ms/step\n",
            "Epoch 174/250\n",
            "1/1 - 0s - loss: 0.0458 - accuracy: 0.9956 - val_loss: 0.0034 - val_accuracy: 1.0000 - 211ms/epoch - 211ms/step\n",
            "Epoch 175/250\n",
            "1/1 - 0s - loss: 0.0310 - accuracy: 0.9956 - val_loss: 0.0047 - val_accuracy: 1.0000 - 228ms/epoch - 228ms/step\n",
            "Epoch 176/250\n",
            "1/1 - 0s - loss: 0.0424 - accuracy: 0.9912 - val_loss: 0.0070 - val_accuracy: 1.0000 - 215ms/epoch - 215ms/step\n",
            "Epoch 177/250\n",
            "1/1 - 0s - loss: 0.0332 - accuracy: 0.9956 - val_loss: 0.0093 - val_accuracy: 1.0000 - 221ms/epoch - 221ms/step\n",
            "Epoch 178/250\n",
            "1/1 - 0s - loss: 0.0468 - accuracy: 0.9912 - val_loss: 0.0088 - val_accuracy: 1.0000 - 211ms/epoch - 211ms/step\n",
            "Epoch 179/250\n",
            "1/1 - 0s - loss: 0.0356 - accuracy: 0.9912 - val_loss: 0.0067 - val_accuracy: 1.0000 - 209ms/epoch - 209ms/step\n",
            "Epoch 180/250\n",
            "1/1 - 0s - loss: 0.0422 - accuracy: 0.9912 - val_loss: 0.0041 - val_accuracy: 1.0000 - 212ms/epoch - 212ms/step\n",
            "Epoch 181/250\n",
            "1/1 - 0s - loss: 0.0349 - accuracy: 0.9956 - val_loss: 0.0029 - val_accuracy: 1.0000 - 214ms/epoch - 214ms/step\n",
            "Epoch 182/250\n",
            "1/1 - 0s - loss: 0.0446 - accuracy: 0.9912 - val_loss: 0.0022 - val_accuracy: 1.0000 - 211ms/epoch - 211ms/step\n",
            "Epoch 183/250\n",
            "1/1 - 0s - loss: 0.0269 - accuracy: 1.0000 - val_loss: 0.0019 - val_accuracy: 1.0000 - 214ms/epoch - 214ms/step\n",
            "Epoch 184/250\n",
            "1/1 - 0s - loss: 0.0391 - accuracy: 0.9868 - val_loss: 0.0017 - val_accuracy: 1.0000 - 217ms/epoch - 217ms/step\n",
            "Epoch 185/250\n",
            "1/1 - 0s - loss: 0.0366 - accuracy: 0.9956 - val_loss: 0.0019 - val_accuracy: 1.0000 - 216ms/epoch - 216ms/step\n",
            "Epoch 186/250\n",
            "1/1 - 0s - loss: 0.0538 - accuracy: 0.9868 - val_loss: 0.0026 - val_accuracy: 1.0000 - 215ms/epoch - 215ms/step\n",
            "Epoch 187/250\n",
            "1/1 - 0s - loss: 0.0259 - accuracy: 0.9912 - val_loss: 0.0044 - val_accuracy: 1.0000 - 217ms/epoch - 217ms/step\n",
            "Epoch 188/250\n",
            "1/1 - 0s - loss: 0.0219 - accuracy: 1.0000 - val_loss: 0.0068 - val_accuracy: 1.0000 - 206ms/epoch - 206ms/step\n",
            "Epoch 189/250\n",
            "1/1 - 0s - loss: 0.0292 - accuracy: 0.9956 - val_loss: 0.0080 - val_accuracy: 1.0000 - 218ms/epoch - 218ms/step\n",
            "Epoch 190/250\n",
            "1/1 - 0s - loss: 0.0382 - accuracy: 0.9956 - val_loss: 0.0047 - val_accuracy: 1.0000 - 215ms/epoch - 215ms/step\n",
            "Epoch 191/250\n",
            "1/1 - 0s - loss: 0.0328 - accuracy: 1.0000 - val_loss: 0.0027 - val_accuracy: 1.0000 - 214ms/epoch - 214ms/step\n",
            "Epoch 192/250\n",
            "1/1 - 0s - loss: 0.0292 - accuracy: 0.9956 - val_loss: 0.0018 - val_accuracy: 1.0000 - 213ms/epoch - 213ms/step\n",
            "Epoch 193/250\n",
            "1/1 - 0s - loss: 0.0217 - accuracy: 1.0000 - val_loss: 0.0013 - val_accuracy: 1.0000 - 227ms/epoch - 227ms/step\n",
            "Epoch 194/250\n",
            "1/1 - 0s - loss: 0.0435 - accuracy: 0.9868 - val_loss: 0.0011 - val_accuracy: 1.0000 - 211ms/epoch - 211ms/step\n",
            "Epoch 195/250\n",
            "1/1 - 0s - loss: 0.0232 - accuracy: 1.0000 - val_loss: 0.0010 - val_accuracy: 1.0000 - 216ms/epoch - 216ms/step\n",
            "Epoch 196/250\n",
            "1/1 - 0s - loss: 0.0293 - accuracy: 0.9956 - val_loss: 0.0010 - val_accuracy: 1.0000 - 210ms/epoch - 210ms/step\n",
            "Epoch 197/250\n",
            "1/1 - 0s - loss: 0.0414 - accuracy: 0.9912 - val_loss: 0.0013 - val_accuracy: 1.0000 - 206ms/epoch - 206ms/step\n",
            "Epoch 198/250\n",
            "1/1 - 0s - loss: 0.0433 - accuracy: 0.9868 - val_loss: 0.0018 - val_accuracy: 1.0000 - 208ms/epoch - 208ms/step\n",
            "Epoch 199/250\n",
            "1/1 - 0s - loss: 0.0505 - accuracy: 0.9781 - val_loss: 0.0028 - val_accuracy: 1.0000 - 223ms/epoch - 223ms/step\n",
            "Epoch 200/250\n",
            "1/1 - 0s - loss: 0.0420 - accuracy: 0.9912 - val_loss: 0.0033 - val_accuracy: 1.0000 - 212ms/epoch - 212ms/step\n",
            "Epoch 201/250\n",
            "1/1 - 0s - loss: 0.0201 - accuracy: 1.0000 - val_loss: 0.0033 - val_accuracy: 1.0000 - 212ms/epoch - 212ms/step\n",
            "Epoch 202/250\n",
            "1/1 - 0s - loss: 0.0494 - accuracy: 0.9868 - val_loss: 0.0032 - val_accuracy: 1.0000 - 217ms/epoch - 217ms/step\n",
            "Epoch 203/250\n",
            "1/1 - 0s - loss: 0.0405 - accuracy: 0.9868 - val_loss: 0.0029 - val_accuracy: 1.0000 - 213ms/epoch - 213ms/step\n",
            "Epoch 204/250\n",
            "1/1 - 0s - loss: 0.0184 - accuracy: 0.9956 - val_loss: 0.0024 - val_accuracy: 1.0000 - 212ms/epoch - 212ms/step\n",
            "Epoch 205/250\n",
            "1/1 - 0s - loss: 0.0305 - accuracy: 0.9956 - val_loss: 0.0017 - val_accuracy: 1.0000 - 216ms/epoch - 216ms/step\n",
            "Epoch 206/250\n",
            "1/1 - 0s - loss: 0.0282 - accuracy: 0.9956 - val_loss: 0.0015 - val_accuracy: 1.0000 - 208ms/epoch - 208ms/step\n",
            "Epoch 207/250\n",
            "1/1 - 0s - loss: 0.0315 - accuracy: 0.9912 - val_loss: 0.0014 - val_accuracy: 1.0000 - 205ms/epoch - 205ms/step\n",
            "Epoch 208/250\n",
            "1/1 - 0s - loss: 0.0278 - accuracy: 0.9912 - val_loss: 0.0014 - val_accuracy: 1.0000 - 223ms/epoch - 223ms/step\n",
            "Epoch 209/250\n",
            "1/1 - 0s - loss: 0.0353 - accuracy: 0.9912 - val_loss: 0.0016 - val_accuracy: 1.0000 - 213ms/epoch - 213ms/step\n",
            "Epoch 210/250\n",
            "1/1 - 0s - loss: 0.0249 - accuracy: 0.9956 - val_loss: 0.0015 - val_accuracy: 1.0000 - 212ms/epoch - 212ms/step\n",
            "Epoch 211/250\n",
            "1/1 - 0s - loss: 0.0133 - accuracy: 1.0000 - val_loss: 0.0015 - val_accuracy: 1.0000 - 216ms/epoch - 216ms/step\n",
            "Epoch 212/250\n",
            "1/1 - 0s - loss: 0.0326 - accuracy: 0.9912 - val_loss: 0.0012 - val_accuracy: 1.0000 - 213ms/epoch - 213ms/step\n",
            "Epoch 213/250\n",
            "1/1 - 0s - loss: 0.0146 - accuracy: 1.0000 - val_loss: 0.0010 - val_accuracy: 1.0000 - 210ms/epoch - 210ms/step\n",
            "Epoch 214/250\n",
            "1/1 - 0s - loss: 0.0342 - accuracy: 0.9868 - val_loss: 0.0010 - val_accuracy: 1.0000 - 222ms/epoch - 222ms/step\n",
            "Epoch 215/250\n",
            "1/1 - 0s - loss: 0.0212 - accuracy: 0.9956 - val_loss: 9.9688e-04 - val_accuracy: 1.0000 - 212ms/epoch - 212ms/step\n",
            "Epoch 216/250\n",
            "1/1 - 0s - loss: 0.0204 - accuracy: 0.9956 - val_loss: 0.0010 - val_accuracy: 1.0000 - 216ms/epoch - 216ms/step\n",
            "Epoch 217/250\n",
            "1/1 - 0s - loss: 0.0219 - accuracy: 0.9956 - val_loss: 0.0013 - val_accuracy: 1.0000 - 212ms/epoch - 212ms/step\n",
            "Epoch 218/250\n",
            "1/1 - 0s - loss: 0.0189 - accuracy: 1.0000 - val_loss: 0.0013 - val_accuracy: 1.0000 - 217ms/epoch - 217ms/step\n",
            "Epoch 219/250\n",
            "1/1 - 0s - loss: 0.0191 - accuracy: 1.0000 - val_loss: 0.0013 - val_accuracy: 1.0000 - 212ms/epoch - 212ms/step\n",
            "Epoch 220/250\n",
            "1/1 - 0s - loss: 0.0441 - accuracy: 0.9912 - val_loss: 0.0013 - val_accuracy: 1.0000 - 215ms/epoch - 215ms/step\n",
            "Epoch 221/250\n",
            "1/1 - 0s - loss: 0.0214 - accuracy: 0.9956 - val_loss: 0.0012 - val_accuracy: 1.0000 - 214ms/epoch - 214ms/step\n",
            "Epoch 222/250\n",
            "1/1 - 0s - loss: 0.0175 - accuracy: 1.0000 - val_loss: 0.0011 - val_accuracy: 1.0000 - 210ms/epoch - 210ms/step\n",
            "Epoch 223/250\n",
            "1/1 - 0s - loss: 0.0227 - accuracy: 1.0000 - val_loss: 9.7895e-04 - val_accuracy: 1.0000 - 215ms/epoch - 215ms/step\n",
            "Epoch 224/250\n",
            "1/1 - 0s - loss: 0.0361 - accuracy: 0.9825 - val_loss: 9.8042e-04 - val_accuracy: 1.0000 - 216ms/epoch - 216ms/step\n",
            "Epoch 225/250\n",
            "1/1 - 0s - loss: 0.0254 - accuracy: 0.9956 - val_loss: 8.8782e-04 - val_accuracy: 1.0000 - 217ms/epoch - 217ms/step\n",
            "Epoch 226/250\n",
            "1/1 - 0s - loss: 0.0129 - accuracy: 1.0000 - val_loss: 7.8723e-04 - val_accuracy: 1.0000 - 211ms/epoch - 211ms/step\n",
            "Epoch 227/250\n",
            "1/1 - 0s - loss: 0.0190 - accuracy: 0.9956 - val_loss: 7.2668e-04 - val_accuracy: 1.0000 - 218ms/epoch - 218ms/step\n",
            "Epoch 228/250\n",
            "1/1 - 0s - loss: 0.0149 - accuracy: 1.0000 - val_loss: 7.0839e-04 - val_accuracy: 1.0000 - 212ms/epoch - 212ms/step\n",
            "Epoch 229/250\n",
            "1/1 - 0s - loss: 0.0177 - accuracy: 1.0000 - val_loss: 7.0247e-04 - val_accuracy: 1.0000 - 217ms/epoch - 217ms/step\n",
            "Epoch 230/250\n",
            "1/1 - 0s - loss: 0.0208 - accuracy: 1.0000 - val_loss: 7.3841e-04 - val_accuracy: 1.0000 - 216ms/epoch - 216ms/step\n",
            "Epoch 231/250\n",
            "1/1 - 0s - loss: 0.0152 - accuracy: 0.9956 - val_loss: 7.2862e-04 - val_accuracy: 1.0000 - 216ms/epoch - 216ms/step\n",
            "Epoch 232/250\n",
            "1/1 - 0s - loss: 0.0374 - accuracy: 0.9868 - val_loss: 7.1859e-04 - val_accuracy: 1.0000 - 215ms/epoch - 215ms/step\n",
            "Epoch 233/250\n",
            "1/1 - 0s - loss: 0.0093 - accuracy: 1.0000 - val_loss: 7.6205e-04 - val_accuracy: 1.0000 - 221ms/epoch - 221ms/step\n",
            "Epoch 234/250\n",
            "1/1 - 0s - loss: 0.0113 - accuracy: 1.0000 - val_loss: 7.2776e-04 - val_accuracy: 1.0000 - 213ms/epoch - 213ms/step\n",
            "Epoch 235/250\n",
            "1/1 - 0s - loss: 0.0184 - accuracy: 0.9956 - val_loss: 6.2682e-04 - val_accuracy: 1.0000 - 208ms/epoch - 208ms/step\n",
            "Epoch 236/250\n",
            "1/1 - 0s - loss: 0.0265 - accuracy: 0.9956 - val_loss: 5.5317e-04 - val_accuracy: 1.0000 - 214ms/epoch - 214ms/step\n",
            "Epoch 237/250\n",
            "1/1 - 0s - loss: 0.0333 - accuracy: 0.9956 - val_loss: 6.9745e-04 - val_accuracy: 1.0000 - 220ms/epoch - 220ms/step\n",
            "Epoch 238/250\n",
            "1/1 - 0s - loss: 0.0112 - accuracy: 1.0000 - val_loss: 7.4433e-04 - val_accuracy: 1.0000 - 219ms/epoch - 219ms/step\n",
            "Epoch 239/250\n",
            "1/1 - 0s - loss: 0.0356 - accuracy: 0.9912 - val_loss: 5.9622e-04 - val_accuracy: 1.0000 - 216ms/epoch - 216ms/step\n",
            "Epoch 240/250\n",
            "1/1 - 0s - loss: 0.0249 - accuracy: 0.9956 - val_loss: 5.2493e-04 - val_accuracy: 1.0000 - 210ms/epoch - 210ms/step\n",
            "Epoch 241/250\n",
            "1/1 - 0s - loss: 0.0201 - accuracy: 1.0000 - val_loss: 5.4280e-04 - val_accuracy: 1.0000 - 208ms/epoch - 208ms/step\n",
            "Epoch 242/250\n",
            "1/1 - 0s - loss: 0.0152 - accuracy: 1.0000 - val_loss: 5.6723e-04 - val_accuracy: 1.0000 - 214ms/epoch - 214ms/step\n",
            "Epoch 243/250\n",
            "1/1 - 0s - loss: 0.0121 - accuracy: 1.0000 - val_loss: 6.1831e-04 - val_accuracy: 1.0000 - 215ms/epoch - 215ms/step\n",
            "Epoch 244/250\n",
            "1/1 - 0s - loss: 0.0183 - accuracy: 0.9956 - val_loss: 6.1936e-04 - val_accuracy: 1.0000 - 211ms/epoch - 211ms/step\n",
            "Epoch 245/250\n",
            "1/1 - 0s - loss: 0.0144 - accuracy: 0.9956 - val_loss: 6.5146e-04 - val_accuracy: 1.0000 - 214ms/epoch - 214ms/step\n",
            "Epoch 246/250\n",
            "1/1 - 0s - loss: 0.0200 - accuracy: 0.9956 - val_loss: 6.8990e-04 - val_accuracy: 1.0000 - 214ms/epoch - 214ms/step\n",
            "Epoch 247/250\n",
            "1/1 - 0s - loss: 0.0233 - accuracy: 0.9912 - val_loss: 7.3162e-04 - val_accuracy: 1.0000 - 209ms/epoch - 209ms/step\n",
            "Epoch 248/250\n",
            "1/1 - 0s - loss: 0.0115 - accuracy: 1.0000 - val_loss: 7.2649e-04 - val_accuracy: 1.0000 - 221ms/epoch - 221ms/step\n",
            "Epoch 249/250\n",
            "1/1 - 0s - loss: 0.0141 - accuracy: 1.0000 - val_loss: 5.7988e-04 - val_accuracy: 1.0000 - 216ms/epoch - 216ms/step\n",
            "Epoch 250/250\n",
            "1/1 - 0s - loss: 0.0148 - accuracy: 1.0000 - val_loss: 4.3119e-04 - val_accuracy: 1.0000 - 206ms/epoch - 206ms/step\n"
          ]
        }
      ],
      "source": [
        "#fit and training the model \n",
        "history=cnn_model.fit(\n",
        "    np.array(x_train), np.array(y_train), batch_size=512,\n",
        "    epochs=250, verbose=2,\n",
        "    validation_data=(np.array(x_valid),np.array(y_valid)),\n",
        ")"
      ]
    },
    {
      "cell_type": "markdown",
      "metadata": {
        "id": "mw9qP0fQtLxk"
      },
      "source": [
        "Evaluate the test data\n"
      ]
    },
    {
      "cell_type": "code",
      "execution_count": null,
      "metadata": {
        "colab": {
          "base_uri": "https://localhost:8080/"
        },
        "id": "DSe292KatLxl",
        "outputId": "086fbe7d-4525-4d78-d370-1ee72a9c4b59"
      },
      "outputs": [
        {
          "output_type": "stream",
          "name": "stdout",
          "text": [
            "test los 0.3244\n",
            "test acc 0.9375\n"
          ]
        }
      ],
      "source": [
        "#evaluating the test data\n",
        "scor = cnn_model.evaluate( np.array(x_test),  np.array(y_test), verbose=0)\n",
        "#test data score\n",
        "print('test los {:.4f}'.format(scor[0]))\n",
        "print('test acc {:.4f}'.format(scor[1]))"
      ]
    },
    {
      "cell_type": "markdown",
      "metadata": {
        "id": "_1IxCaiWtLxl"
      },
      "source": [
        "# Step 7 \n",
        "\n",
        "plot the result"
      ]
    },
    {
      "cell_type": "code",
      "execution_count": null,
      "metadata": {
        "colab": {
          "base_uri": "https://localhost:8080/",
          "height": 590
        },
        "id": "ndZaRfcEtLxm",
        "outputId": "abaa2fc2-4bff-4617-ea82-7c908a995790"
      },
      "outputs": [
        {
          "output_type": "stream",
          "name": "stdout",
          "text": [
            "dict_keys(['loss', 'accuracy', 'val_loss', 'val_accuracy'])\n"
          ]
        },
        {
          "output_type": "display_data",
          "data": {
            "text/plain": [
              "<Figure size 432x288 with 1 Axes>"
            ],
            "image/png": "[encoded data removed]"
          },
          "metadata": {
            "needs_background": "light"
          }
        },
        {
          "output_type": "display_data",
          "data": {
            "text/plain": [
              "<Figure size 432x288 with 1 Axes>"
            ],
            "image/png": "[encoded data removed]"
          },
          "metadata": {
            "needs_background": "light"
          }
        }
      ],
      "source": [
        "# list all data in history\n",
        "print(history.history.keys())\n",
        "# summarize history for accuracy\n",
        "plt.plot(history.history['accuracy'])\n",
        "plt.plot(history.history['val_accuracy'])\n",
        "plt.title('model accuracy') #title of the model accuracy\n",
        "plt.ylabel('accuracy') #yaxis of accuracy curve\n",
        "plt.xlabel('epoch') #number of epoch on the xaxis\n",
        "plt.legend(['train', 'test'], loc='upper left') #showing legend\n",
        "plt.show()\n",
        "# summarize history for loss\n",
        "plt.plot(history.history['loss'])\n",
        "plt.plot(history.history['val_loss'])\n",
        "plt.title('model loss') #title of the model loss\n",
        "plt.ylabel('loss')  #yaxis of model loss\n",
        "plt.xlabel('epoch') #number of epoch on the xaxis\n",
        "plt.legend(['train', 'test'], loc='upper left') #showing legend\n",
        "plt.show()"
      ]
    },
    {
      "cell_type": "markdown",
      "metadata": {
        "id": "twr5fjvjtLxn"
      },
      "source": [
        "# step 8\n",
        "\n",
        "Plot Confusion Matrix"
      ]
    },
    {
      "cell_type": "code",
      "execution_count": null,
      "metadata": {
        "colab": {
          "base_uri": "https://localhost:8080/",
          "height": 1000
        },
        "id": "0gNY2urGtLxn",
        "outputId": "51edba9c-f1c1-49c7-b86f-6cab0f290a84"
      },
      "outputs": [
        {
          "output_type": "stream",
          "name": "stdout",
          "text": [
            "accuracy : \n",
            "0.9375\n",
            "Confusion matrix, without normalization\n",
            "[[8 0 0 0 0 0 0 0 0 0 0 0 0 0 0 0 0 0 0 0]\n",
            " [0 8 0 0 0 0 0 0 0 0 0 0 0 0 0 0 0 0 0 0]\n",
            " [0 0 8 0 0 0 0 0 0 0 0 0 0 0 0 0 0 0 0 0]\n",
            " [0 0 2 6 0 0 0 0 0 0 0 0 0 0 0 0 0 0 0 0]\n",
            " [0 0 0 0 6 0 0 0 0 0 0 0 0 0 0 0 0 2 0 0]\n",
            " [0 0 0 0 0 8 0 0 0 0 0 0 0 0 0 0 0 0 0 0]\n",
            " [0 0 0 0 0 0 8 0 0 0 0 0 0 0 0 0 0 0 0 0]\n",
            " [0 0 0 0 0 0 0 8 0 0 0 0 0 0 0 0 0 0 0 0]\n",
            " [0 0 0 0 0 0 0 0 8 0 0 0 0 0 0 0 0 0 0 0]\n",
            " [0 0 0 0 0 0 0 2 0 6 0 0 0 0 0 0 0 0 0 0]\n",
            " [0 0 0 0 0 0 0 0 0 0 8 0 0 0 0 0 0 0 0 0]\n",
            " [0 0 0 0 0 0 0 0 0 0 0 8 0 0 0 0 0 0 0 0]\n",
            " [0 0 0 0 0 0 0 0 0 0 0 0 8 0 0 0 0 0 0 0]\n",
            " [0 0 0 0 0 0 0 0 0 0 0 0 0 8 0 0 0 0 0 0]\n",
            " [0 0 0 0 0 0 0 0 0 0 0 0 0 0 8 0 0 0 0 0]\n",
            " [2 0 0 0 0 0 0 0 0 0 0 0 0 0 0 6 0 0 0 0]\n",
            " [0 0 0 0 0 0 0 0 0 0 0 0 0 0 0 0 8 0 0 0]\n",
            " [0 0 0 0 0 0 0 0 0 0 0 0 0 0 0 0 0 8 0 0]\n",
            " [0 0 0 0 0 0 0 0 0 0 2 0 0 0 0 0 0 0 6 0]\n",
            " [0 0 0 0 0 0 0 0 0 0 0 0 0 0 0 0 0 0 0 8]]\n",
            "Confusion matrix, without normalization\n"
          ]
        },
        {
          "output_type": "display_data",
          "data": {
            "text/plain": [
              "<Figure size 432x288 with 2 Axes>"
            ],
            "image/png": "[encoded data removed]"
          },
          "metadata": {
            "needs_background": "light"
          }
        },
        {
          "output_type": "stream",
          "name": "stdout",
          "text": [
            "Confusion matrix, without normalization\n"
          ]
        },
        {
          "output_type": "display_data",
          "data": {
            "text/plain": [
              "<Figure size 432x288 with 2 Axes>"
            ],
            "image/png": "[encoded data removed]"
          },
          "metadata": {
            "needs_background": "light"
          }
        },
        {
          "output_type": "stream",
          "name": "stdout",
          "text": [
            "Confusion matrix:\n",
            "[[8 0 0 0 0 0 0 0 0 0 0 0 0 0 0 0 0 0 0 0]\n",
            " [0 8 0 0 0 0 0 0 0 0 0 0 0 0 0 0 0 0 0 0]\n",
            " [0 0 8 0 0 0 0 0 0 0 0 0 0 0 0 0 0 0 0 0]\n",
            " [0 0 2 6 0 0 0 0 0 0 0 0 0 0 0 0 0 0 0 0]\n",
            " [0 0 0 0 6 0 0 0 0 0 0 0 0 0 0 0 0 2 0 0]\n",
            " [0 0 0 0 0 8 0 0 0 0 0 0 0 0 0 0 0 0 0 0]\n",
            " [0 0 0 0 0 0 8 0 0 0 0 0 0 0 0 0 0 0 0 0]\n",
            " [0 0 0 0 0 0 0 8 0 0 0 0 0 0 0 0 0 0 0 0]\n",
            " [0 0 0 0 0 0 0 0 8 0 0 0 0 0 0 0 0 0 0 0]\n",
            " [0 0 0 0 0 0 0 2 0 6 0 0 0 0 0 0 0 0 0 0]\n",
            " [0 0 0 0 0 0 0 0 0 0 8 0 0 0 0 0 0 0 0 0]\n",
            " [0 0 0 0 0 0 0 0 0 0 0 8 0 0 0 0 0 0 0 0]\n",
            " [0 0 0 0 0 0 0 0 0 0 0 0 8 0 0 0 0 0 0 0]\n",
            " [0 0 0 0 0 0 0 0 0 0 0 0 0 8 0 0 0 0 0 0]\n",
            " [0 0 0 0 0 0 0 0 0 0 0 0 0 0 8 0 0 0 0 0]\n",
            " [2 0 0 0 0 0 0 0 0 0 0 0 0 0 0 6 0 0 0 0]\n",
            " [0 0 0 0 0 0 0 0 0 0 0 0 0 0 0 0 8 0 0 0]\n",
            " [0 0 0 0 0 0 0 0 0 0 0 0 0 0 0 0 0 8 0 0]\n",
            " [0 0 0 0 0 0 0 0 0 0 2 0 0 0 0 0 0 0 6 0]\n",
            " [0 0 0 0 0 0 0 0 0 0 0 0 0 0 0 0 0 0 0 8]]\n",
            "              precision    recall  f1-score   support\n",
            "\n",
            "           0       0.80      1.00      0.89         8\n",
            "           1       1.00      1.00      1.00         8\n",
            "           2       0.80      1.00      0.89         8\n",
            "           3       1.00      0.75      0.86         8\n",
            "           4       1.00      0.75      0.86         8\n",
            "           5       1.00      1.00      1.00         8\n",
            "           6       1.00      1.00      1.00         8\n",
            "           7       0.80      1.00      0.89         8\n",
            "           8       1.00      1.00      1.00         8\n",
            "           9       1.00      0.75      0.86         8\n",
            "          10       0.80      1.00      0.89         8\n",
            "          11       1.00      1.00      1.00         8\n",
            "          12       1.00      1.00      1.00         8\n",
            "          13       1.00      1.00      1.00         8\n",
            "          14       1.00      1.00      1.00         8\n",
            "          15       1.00      0.75      0.86         8\n",
            "          16       1.00      1.00      1.00         8\n",
            "          17       0.80      1.00      0.89         8\n",
            "          18       1.00      0.75      0.86         8\n",
            "          19       1.00      1.00      1.00         8\n",
            "\n",
            "    accuracy                           0.94       160\n",
            "   macro avg       0.95      0.94      0.94       160\n",
            "weighted avg       0.95      0.94      0.94       160\n",
            "\n"
          ]
        }
      ],
      "source": [
        "predicted =np.array( cnn_model.predict(x_test))\n",
        "#print(predicted)\n",
        "#print(y_test)\n",
        "ynew = np.argmax(cnn_model.predict(x_test), axis=-1)\n",
        "\n",
        "#calculating accuracy score\n",
        "Acc=accuracy_score(y_test, ynew)\n",
        "print(\"accuracy : \")\n",
        "print(Acc)\n",
        "#/tn, fp, fn, tp = confusion_matrix(np.array(y_test), ynew).ravel()\n",
        "cnf_matrix=confusion_matrix(np.array(y_test), ynew) #calculating confusin matrix\n",
        "\n",
        "y_test1 = np_utils.to_categorical(y_test, 20)  # Converts a class vector (integers) to binary class matrix\n",
        "\n",
        "\n",
        "#function for ploting confusion matrix\n",
        "def plot_confusion_matrix(cm, classes,\n",
        "                          normalize=False,\n",
        "                          title='Confusion matrix',\n",
        "                          cmap=plt.cm.Blues):\n",
        "    \"\"\"\n",
        "    This function prints and plots the confusion matrix.\n",
        "    Normalization can be applied by setting `normalize=True`.\n",
        "    \"\"\"\n",
        "    if normalize:\n",
        "        cm = cm.astype('float') / cm.sum(axis=1)[:, np.newaxis]\n",
        "        #print(\"Normalized confusion matrix\")\n",
        "    else:\n",
        "        print('Confusion matrix, without normalization')\n",
        "\n",
        "    #print(cm)\n",
        "    plt.imshow(cm, interpolation='nearest', cmap=cmap)\n",
        "    plt.title(title)\n",
        "    plt.colorbar()\n",
        "    tick_marks = np.arange(len(classes))\n",
        "    plt.xticks(tick_marks, classes, rotation=45)\n",
        "    plt.yticks(tick_marks, classes)\n",
        "\n",
        "    fmt = '.2f' if normalize else 'd'\n",
        "    thresh = cm.max() / 2.\n",
        "    for i, j in itertools.product(range(cm.shape[0]), range(cm.shape[1])):\n",
        "        plt.text(j, i, format(cm[i, j], fmt),\n",
        "                 horizontalalignment=\"center\",\n",
        "                 color=\"white\" if cm[i, j] > thresh else \"black\")\n",
        "\n",
        "    plt.tight_layout()\n",
        "    plt.ylabel('True label')\n",
        "    plt.xlabel('Predicted label')\n",
        "    plt.show()\n",
        "\n",
        "\n",
        "print('Confusion matrix, without normalization')\n",
        "print(cnf_matrix)\n",
        "\n",
        "plt.figure()\n",
        "#ploting confusion matrix\n",
        "plot_confusion_matrix(cnf_matrix[1:10,1:10], classes=[0,1,2,3,4,5,6,7,8,9],\n",
        "                      title='Confusion matrix, without normalization')\n",
        "\n",
        "plt.figure()\n",
        "#ploting confusion matrix\n",
        "plot_confusion_matrix(cnf_matrix[11:20,11:20], classes=[10,11,12,13,14,15,16,17,18,19],\n",
        "                      title='Confusion matrix, without normalization')\n",
        "#printing the confusion matrix and classification report\n",
        "print(\"Confusion matrix:\\n%s\" % confusion_matrix(np.array(y_test), ynew))\n",
        "print(classification_report(np.array(y_test), ynew))"
      ]
    }
  ],
  "metadata": {
    "accelerator": "GPU",
    "colab": {
      "collapsed_sections": [],
      "name": "Face_recognition_Using_CNN.ipynb",
      "provenance": []
    },
    "kernelspec": {
      "display_name": "Python 3",
      "language": "python",
      "name": "python3"
    },
    "language_info": {
      "codemirror_mode": {
        "name": "ipython",
        "version": 3
      },
      "file_extension": ".py",
      "mimetype": "text/x-python",
      "name": "python",
      "nbconvert_exporter": "python",
      "pygments_lexer": "ipython3",
      "version": "3.6.5"
    }
  },
  "nbformat": 4,
  "nbformat_minor": 0
}