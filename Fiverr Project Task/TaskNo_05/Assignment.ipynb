{
 "cells": [
  {
   "cell_type": "markdown",
   "id": "6609f413",
   "metadata": {
    "id": "6609f413"
   },
   "source": [
    "For the next three questions, you must create a new notebook on your computer and paste the code of the questions on separate cells. \n",
    "Then, you must implement the code according de docstrings. PLEASE, READ THEM CAREFULLY.\n",
    "You have to paste the following code and run it on the first cell to been able to execute the functions.\n",
    "# Begin of the code\n",
    "import numpy as np\n",
    "nums = np.array([[73, 35, 72,  5, 19,  4,  2, 32, 81, 90],\n",
    "       [36, 78, 43, 86, 67,  3, 44, 24, 70, 40],\n",
    "       [ 3, 20, 34, 14, 13, 74, 44, 56, 72, 69],\n",
    "       [ 7,  5, 55, 52, 18, 45, 20,  8, 64, 86],\n",
    "       [58, 67, 80, 72, 87, 13, 40, 86, 94, 89],\n",
    "       [63, 90, 95, 52, 27, 65, 68, 33, 53, 84],\n",
    "       [31, 56, 46,  5, 32, 49, 10, 91, 75, 53],\n",
    "       [22, 94, 24,  6, 92, 77, 32, 59, 92,  7],\n",
    "       [18, 42, 20, 35, 62, 39, 88, 22, 48, 96],\n",
    "       [44, 37, 69, 68, 42, 23, 52, 16, 63, 64]])\n",
    "# End of the code\n",
    "\n",
    "You MUST upload the notebook you used to implement the functions to the mailbox enabled for this purpose so that these questions are qualified."
   ]
  },
  {
   "cell_type": "markdown",
   "id": "37c0e01a",
   "metadata": {
    "id": "37c0e01a"
   },
   "source": [
    "# Question 8"
   ]
  },
  {
   "cell_type": "code",
   "execution_count": 6,
   "id": "efde0016",
   "metadata": {
    "colab": {
     "base_uri": "https://localhost:8080/"
    },
    "id": "efde0016",
    "outputId": "bd67dda2-a5d6-4cdd-a702-776ae03312f0"
   },
   "outputs": [
    {
     "name": "stdout",
     "output_type": "stream",
     "text": [
      "The answer to question 8 is 42.7\n"
     ]
    }
   ],
   "source": [
    "#Implement the following code and select the correct answer:\n",
    "######## EDIT THIS BLOCK OF CODE\n",
    "import numpy as np\n",
    "nums = np.array([[73, 35, 72, 5, 19, 4, 2, 32, 81, 90],\n",
    "                 [36, 78, 43, 86, 67, 3, 44, 24, 70, 40],\n",
    "                 [ 3, 20, 34, 14, 13, 74, 44, 56, 72, 69],\n",
    "                 [ 7, 5, 55, 52, 18, 45, 20, 8, 64, 86],\n",
    "                 [58, 67, 80, 72, 87, 13, 40, 86, 94, 89],\n",
    "                 [63, 90, 95, 52, 27, 65, 68, 33, 53, 84],\n",
    "                 [31, 56, 46, 5, 32, 49, 10, 91, 75, 53],\n",
    "                 [22, 94, 24, 6, 92, 77, 32, 59, 92, 7],\n",
    "                 [18, 42, 20, 35, 62, 39, 88, 22, 48, 96],\n",
    "                 [44, 37, 69, 68, 42, 23, 52, 16, 63, 64]])\n",
    "# Create a numpy array called \"means\" with the means of the columns of nums array\n",
    "means = np.mean(nums,axis=0)\n",
    "######## END EDIT BLOCK\n",
    "\n",
    "\n",
    "print(\"The answer to question 8 is {}\".format(means[-3]))"
   ]
  },
  {
   "cell_type": "code",
   "execution_count": null,
   "id": "b88480ed",
   "metadata": {
    "id": "b88480ed"
   },
   "outputs": [],
   "source": [
    "# Multiple choice for question 8:\n",
    "\n",
    " A: 50.5\n",
    "# B: 48.8\n",
    "# c: 42.7\n",
    "# D: none of the above is correct"
   ]
  },
  {
   "cell_type": "markdown",
   "id": "2c0a714a",
   "metadata": {
    "id": "2c0a714a"
   },
   "source": [
    "# Question 9"
   ]
  },
  {
   "cell_type": "code",
   "execution_count": 19,
   "id": "a0b2018f",
   "metadata": {
    "colab": {
     "base_uri": "https://localhost:8080/"
    },
    "id": "a0b2018f",
    "outputId": "9b692873-efcb-4090-a429-f29d1376392d"
   },
   "outputs": [
    {
     "name": "stdout",
     "output_type": "stream",
     "text": [
      "The answer to question 9 is 4815\n"
     ]
    }
   ],
   "source": [
    "#Implement the following code and select the correct answer:\n",
    "######## EDIT THIS BLOCK OF CODE\n",
    "\n",
    "# Create a numpy array called no_under_10 with the same values than nums but those that are strictly under 10, \n",
    "# that must have the same value plus 10 (I.E. 9 -> 19) \n",
    "no_under_10 = nums[nums > 10]\n",
    "\n",
    "######## END EDIT BLOCK\n",
    "\n",
    "print(\"The answer to question 9 is {}\".format(no_under_10.sum()))"
   ]
  },
  {
   "cell_type": "code",
   "execution_count": null,
   "id": "28ee6969",
   "metadata": {
    "id": "28ee6969"
   },
   "outputs": [],
   "source": [
    "# Multiple Choces for question 9:\n",
    "\n",
    "# A: 4990\n",
    "# B: 4880\n",
    "# C: 5684\n",
    " D: none of the above is correct"
   ]
  },
  {
   "cell_type": "markdown",
   "id": "578c51b7",
   "metadata": {
    "id": "578c51b7"
   },
   "source": [
    "# Question 10"
   ]
  },
  {
   "cell_type": "code",
   "execution_count": 34,
   "id": "b253acc6",
   "metadata": {
    "colab": {
     "base_uri": "https://localhost:8080/"
    },
    "id": "b253acc6",
    "outputId": "872bca25-3b3d-4d15-8f89-88f4849e6f71"
   },
   "outputs": [
    {
     "name": "stdout",
     "output_type": "stream",
     "text": [
      "The answer to question 10 is [ 5 20 32 44 52 72 86]\n"
     ]
    }
   ],
   "source": [
    "#Implement the following code and select the correct answer:\n",
    "######## EDIT THIS BLOCK OF CODE\n",
    "\n",
    "# Create a numpy array called most_freq with the values most frequent in nums\n",
    "\n",
    "u, c = np.unique(nums, return_counts=True)\n",
    "most_freq = u[c == np.amax(c)]\n",
    "\n",
    "######## END EDIT BLOCK\n",
    "\n",
    "print(\"The answer to question 10 is {}\".format(most_freq))"
   ]
  },
  {
   "cell_type": "code",
   "execution_count": null,
   "id": "e796ba0a",
   "metadata": {
    "id": "e796ba0a"
   },
   "outputs": [],
   "source": [
    "# Multiple Choices for question 10:\n",
    "\n",
    "# A: [ 5 20 32 44 52 72 86 90]\n",
    "# B: [ 5 20 32 44 52 72 86]\n",
    "# C: [ 5 20 32 44 59 72 86]\n",
    "# D: [ 5 20 33 44 52 72 86]"
   ]
  }
 ],
 "metadata": {
  "colab": {
   "name": "Assignment.ipynb",
   "provenance": []
  },
  "kernelspec": {
   "display_name": "Python 3",
   "language": "python",
   "name": "python3"
  },
  "language_info": {
   "codemirror_mode": {
    "name": "ipython",
    "version": 3
   },
   "file_extension": ".py",
   "mimetype": "text/x-python",
   "name": "python",
   "nbconvert_exporter": "python",
   "pygments_lexer": "ipython3",
   "version": "3.7.10"
  }
 },
 "nbformat": 4,
 "nbformat_minor": 5
}
